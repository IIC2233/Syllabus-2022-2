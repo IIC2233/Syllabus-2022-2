{
 "cells": [
  {
   "cell_type": "markdown",
   "id": "75d35db8",
   "metadata": {
    "slideshow": {
     "slide_type": "slide"
    }
   },
   "source": [
    "# **Ayudantía 8: Networking** 🖥️\n",
    "\n",
    "\n",
    "Autores 👨‍💻 \n",
    "\n",
    "* Diego Milla [@DiegoMillaUC]\n",
    "* Gustavo Truan [@Gtruaan]"
   ]
  },
  {
   "cell_type": "markdown",
   "id": "bb3e39f6",
   "metadata": {
    "slideshow": {
     "slide_type": "slide"
    }
   },
   "source": [
    "### ¿Qué es Computer Networking?\n",
    "\n",
    "Dispositivos computacionales interconectados, de forma física o inalámbrica, que pueden intercambiar datos y compartir recursos entre sí, en base a un sistema de reglas llamadas protocolos de comunicación."
   ]
  },
  {
   "cell_type": "markdown",
   "id": "40febb9a",
   "metadata": {
    "slideshow": {
     "slide_type": "slide"
    }
   },
   "source": [
    "## Arquitectura Cliente - Servidor 🤝"
   ]
  },
  {
   "cell_type": "markdown",
   "id": "b7754e13",
   "metadata": {
    "slideshow": {
     "slide_type": "fragment"
    }
   },
   "source": [
    "### ¿Para qué?\n",
    "El establecer roles en la comunicación permite un uso eficiente de los recursos y robustez del sistema."
   ]
  },
  {
   "cell_type": "markdown",
   "id": "254b04c4",
   "metadata": {
    "slideshow": {
     "slide_type": "fragment"
    }
   },
   "source": [
    "<center><img src=\"./imagenes/networking.png\"/></center>"
   ]
  },
  {
   "cell_type": "markdown",
   "id": "b12b1783",
   "metadata": {
    "slideshow": {
     "slide_type": "slide"
    }
   },
   "source": [
    "### Roles\n",
    "\n",
    "#### Servidor\n",
    "* Se encuentra a la espera de recibir y manejar conexiones con clientes.\n",
    "* Entrega servicios a consumir.\n",
    "* Se encarga del manejo de información, tanto en su fondo como en su forma.\n",
    "\n",
    "#### Cliente\n",
    "* Entabla comunicación con el Servidor.\n",
    "* Realiza solicitudes y consume servicios."
   ]
  },
  {
   "cell_type": "markdown",
   "id": "d139982f",
   "metadata": {
    "slideshow": {
     "slide_type": "slide"
    }
   },
   "source": [
    "## Sockets"
   ]
  },
  {
   "cell_type": "markdown",
   "id": "cb9973b4",
   "metadata": {
    "slideshow": {
     "slide_type": "fragment"
    }
   },
   "source": [
    "### ¿Qué es?\n",
    "\n",
    "Es un objeto del sistema operativo que permite a un programa transmitir y recibir datos desde y hacia otro programa."
   ]
  },
  {
   "cell_type": "markdown",
   "id": "dd9992ea",
   "metadata": {
    "slideshow": {
     "slide_type": "fragment"
    }
   },
   "source": [
    "### ¿Cómo se usa?"
   ]
  },
  {
   "cell_type": "markdown",
   "id": "136b6d88",
   "metadata": {
    "slideshow": {
     "slide_type": "slide"
    }
   },
   "source": [
    "#### Cliente TCP (Transmission Control Protocol)"
   ]
  },
  {
   "cell_type": "markdown",
   "id": "887835b1",
   "metadata": {
    "slideshow": {
     "slide_type": "fragment"
    }
   },
   "source": [
    "Para crear un socket, se debe crear una instancia de la clase `socket(family, type)`.\n",
    "* `family`: tipo de dirección IP a usar.\n",
    "    * Para direcciones IPv4: `AF_INET`.\n",
    "    * Para direcciones IPv6: `AF_INET6`.\n",
    "* `type`: protocolo de transporte a usar.\n",
    "    * Para protocolo TCP: `SOCK_STREAM`.\n",
    "    * Para protocolo UDP: `SOCK_DGRAM`."
   ]
  },
  {
   "cell_type": "markdown",
   "id": "7d7da2ef",
   "metadata": {
    "slideshow": {
     "slide_type": "subslide"
    }
   },
   "source": [
    "Para conectarse a un servidor TCP se usa el método `connect((host, port))` del socket. \n",
    "* `host`: dirección IP del host destinatario.\n",
    "* `port`: puerto del host destinatario.\n",
    "\n",
    "Para enviar un mensaje, se usa el método `sendall(bytes)` de socket.\n",
    "\n",
    "Para recibir un mensaje, se usa el método `recv(buffer)->bytes` de socket.\n",
    "* `buffer`: cantidad máxima de bytes a recibir.\n",
    "\n",
    "Para cerrar la conexión se usa el método `close()` de socket."
   ]
  },
  {
   "cell_type": "code",
   "execution_count": null,
   "id": "ca90fee0",
   "metadata": {
    "slideshow": {
     "slide_type": "subslide"
    }
   },
   "outputs": [],
   "source": [
    "import socket\n",
    "\n",
    "socket_cliente = socket.socket(socket.AF_INET, socket.SOCK_STREAM)\n",
    "print(socket_cliente)\n",
    "HOST = socket.gethostname() \n",
    "# Permite obtener la dirección IP del host donde se está ejecutando el programa.\n",
    "# HOST = \"localhost\"\n",
    "PORT = 5000\n",
    "\n",
    "try:\n",
    "    socket_cliente.connect((HOST, PORT))\n",
    "    mensaje_a_enviar = 'Mensaje enviado desde cliente a servidor'\n",
    "    socket_cliente.sendall(mensaje_a_enviar.encode('utf-8'))\n",
    "    bytes_recibidos = socket_cliente.recv(4096)\n",
    "    print(f\"Mensaje recibido: {bytes_recibidos.decode('utf-8')}\")\n",
    "except ConnectionError as error:\n",
    "    print('La conexión ha fallado :o')\n",
    "    print(f'Error: {error}')\n",
    "finally:  \n",
    "    socket_cliente.close()"
   ]
  },
  {
   "cell_type": "markdown",
   "id": "6f55513c",
   "metadata": {
    "slideshow": {
     "slide_type": "slide"
    }
   },
   "source": [
    "#### Servidor TCP (Transmission Control Protocol)"
   ]
  },
  {
   "cell_type": "markdown",
   "id": "79b0e8ef",
   "metadata": {
    "slideshow": {
     "slide_type": "fragment"
    }
   },
   "source": [
    "Se crea un socket de la misma forma que en el cliente, con `socket(family, type)`.\n",
    "\n",
    "Para enlazar el socket a un puerto se usa el método `bind((host, port))`.\n",
    "* `host`:  host en el que se está corriendo el servidor.\n",
    "* `port`: puerto donde se va a escuchar las conexiones.\n",
    "\n",
    "Para escuchar conexiones se usa el método `listen()`."
   ]
  },
  {
   "cell_type": "markdown",
   "id": "aa292693",
   "metadata": {
    "slideshow": {
     "slide_type": "subslide"
    }
   },
   "source": [
    "Para aceptar conexiones se usa el método `accept()->socket_cliente, address`.\n",
    "* `socket_cliente`: socket que permite al servidor comunicarse con el cliente que se acepta.\n",
    "* `address`: tupla con la dirección IP y el puerto del cliente.\n",
    "\n",
    "Para cerrar el servidor se usa el método `close()` de socket."
   ]
  },
  {
   "cell_type": "code",
   "execution_count": null,
   "id": "73f00221",
   "metadata": {
    "slideshow": {
     "slide_type": "subslide"
    }
   },
   "outputs": [],
   "source": [
    "import socket\n",
    "\n",
    "socket_servidor = socket.socket(socket.AF_INET, socket.SOCK_STREAM)\n",
    "\n",
    "HOST = socket.gethostname()\n",
    "print(HOST)\n",
    "PORT = 5000\n",
    "\n",
    "socket_servidor.bind((HOST, PORT))\n",
    "socket_servidor.listen()\n",
    "\n",
    "while True:\n",
    "    try:\n",
    "        socket_cliente, adress = socket_servidor.accept()\n",
    "        print(f'Conexión aceptada desde: {adress}')\n",
    "        bytes_recibidos = socket_cliente.recv(4096)\n",
    "        print(f\"Mensaje recibido: {bytes_recibidos.decode('utf-8')}\")\n",
    "        mensaje_a_enviar = 'Mensaje enviado desde servidor a cliente'\n",
    "        socket_cliente.sendall(mensaje_a_enviar.encode('utf-8'))\n",
    "    except ConnectionError as error:\n",
    "        print('La conexión ha fallado :o')\n",
    "        print(f'Error: {error}')\n",
    "    finally:\n",
    "        socket_servidor.close()"
   ]
  },
  {
   "cell_type": "markdown",
   "id": "9311e929",
   "metadata": {
    "slideshow": {
     "slide_type": "slide"
    }
   },
   "source": [
    "## Envío de información: protocolos 🛡️"
   ]
  },
  {
   "cell_type": "markdown",
   "id": "3435d9ba",
   "metadata": {
    "slideshow": {
     "slide_type": "fragment"
    }
   },
   "source": [
    "### ¿Qué es?\n",
    "\n",
    "Son esquemas de comunicación para la transferencia de información."
   ]
  },
  {
   "cell_type": "markdown",
   "id": "33120036",
   "metadata": {
    "slideshow": {
     "slide_type": "slide"
    }
   },
   "source": [
    "### ¿Para qué sirve?\n",
    "\n",
    "* Envío de grandes cantidades de datos.\n",
    "* Estandarización del envío de información.\n",
    "* Orden en la transferencia de datos.\n",
    "* Garantiza el correcto traspaso de información."
   ]
  },
  {
   "cell_type": "markdown",
   "id": "9d485faa",
   "metadata": {
    "slideshow": {
     "slide_type": "slide"
    }
   },
   "source": [
    "### ¿Qué información puede contener un protocolo?\n",
    "\n",
    "* Tamaño de los datos enviados.\n",
    "* Tamaño de los chunks.\n",
    "* Orden de los bytes.\n",
    "* Alfabeto de codificación."
   ]
  },
  {
   "cell_type": "markdown",
   "id": "afc2a6dd",
   "metadata": {
    "slideshow": {
     "slide_type": "slide"
    }
   },
   "source": [
    "### ¿Qué tipos existen?\n",
    "\n",
    "#### TCP\n",
    "\n",
    "* Fidelidad del mensaje (handshake).\n",
    "* Comprobación del establecimiento y mantención de la comunicación.\n",
    "\n",
    "#### UDP\n",
    "\n",
    "* Rapidez de tranmisión.\n",
    "* Facilidad de establecimiento."
   ]
  },
  {
   "cell_type": "markdown",
   "id": "1e5f3591",
   "metadata": {
    "slideshow": {
     "slide_type": "fragment"
    }
   },
   "source": [
    "**Nota: Siempre se utilizará el protocolo TCP cuando sea relevante la fidelidad del mensaje por sobre la velocidad de transmisión**"
   ]
  },
  {
   "cell_type": "markdown",
   "id": "c54fa89d",
   "metadata": {
    "slideshow": {
     "slide_type": "slide"
    }
   },
   "source": [
    "### Ejemplo! ✨"
   ]
  },
  {
   "cell_type": "code",
   "execution_count": 1,
   "id": "4d3c9828",
   "metadata": {
    "slideshow": {
     "slide_type": "slide"
    }
   },
   "outputs": [
    {
     "name": "stdout",
     "output_type": "stream",
     "text": [
      "Mensaje final: b'\\x0e\\x00\\x00\\x00{\"nombre\": \"Margot\", \"edad\": 15, \"raza\": \"Schnauzer\"}\\x00\\x00\\x00'\n"
     ]
    }
   ],
   "source": [
    "import json\n",
    "\n",
    "TAMANO_CHUNK = 4\n",
    "\n",
    "mensaje = {\n",
    "    'nombre': 'Margot',\n",
    "    'edad': 15,\n",
    "    'raza': 'Schnauzer'\n",
    "}\n",
    "\n",
    "bytes_mensaje = json.dumps(mensaje).encode('utf-8')\n",
    "\n",
    "while len(bytes_mensaje) % TAMANO_CHUNK != 0:\n",
    "    bytes_mensaje += b'\\x00'\n",
    "\n",
    "numero_chunks = len(bytes_mensaje) // TAMANO_CHUNK\n",
    "bytes_numero_chunks = numero_chunks.to_bytes(4, 'little')\n",
    "\n",
    "mensaje_final = bytes_numero_chunks + bytes_mensaje\n",
    "print(f'Mensaje final: {mensaje_final}')"
   ]
  },
  {
   "cell_type": "code",
   "execution_count": 2,
   "id": "7e27f849",
   "metadata": {
    "slideshow": {
     "slide_type": "slide"
    }
   },
   "outputs": [
    {
     "name": "stdout",
     "output_type": "stream",
     "text": [
      "Bytes recibidos: b'{\"nombre\": \"Margot\", \"edad\": 15, \"raza\": \"Schnauzer\"}\\x00\\x00\\x00'\n",
      "Mensaje recibido: {'nombre': 'Margot', 'edad': 15, 'raza': 'Schnauzer'}\n"
     ]
    }
   ],
   "source": [
    "numero_chunks = int.from_bytes(mensaje_final[:4], 'little')\n",
    "\n",
    "chunks_recibidos = 0\n",
    "bytes_recibidos = b''\n",
    "actual = 4\n",
    "\n",
    "while chunks_recibidos < numero_chunks:\n",
    "    chunk = mensaje_final[actual:actual+TAMANO_CHUNK]\n",
    "    bytes_recibidos += chunk\n",
    "    actual += TAMANO_CHUNK\n",
    "    chunks_recibidos += 1\n",
    "print(f'Bytes recibidos: {bytes_recibidos}')\n",
    "\n",
    "bytes_recibidos_limpios = bytes_recibidos.strip(b\"\\x00\")\n",
    "mensaje_recibido = json.loads(bytes_recibidos_limpios)\n",
    "print(f'Mensaje recibido: {mensaje_recibido}')"
   ]
  },
  {
   "cell_type": "markdown",
   "id": "2981da21",
   "metadata": {
    "slideshow": {
     "slide_type": "slide"
    }
   },
   "source": [
    "## Manejo de múltiples clientes en forma concurrente 😱"
   ]
  },
  {
   "cell_type": "markdown",
   "id": "d29927ef",
   "metadata": {
    "slideshow": {
     "slide_type": "fragment"
    }
   },
   "source": [
    "<center><img src=\"./imagenes/clientes.png\"/></center>"
   ]
  },
  {
   "cell_type": "markdown",
   "id": "fe6dbf90",
   "metadata": {
    "slideshow": {
     "slide_type": "slide"
    }
   },
   "source": [
    "* El manejo de varios usuarios simultáneamente se logra mediante el uso de **threads**.\n",
    "* Un thread encargado de aceptar nuevos clientes y un thread encargado de cada cliente."
   ]
  },
  {
   "cell_type": "markdown",
   "id": "73fcf028",
   "metadata": {
    "slideshow": {
     "slide_type": "slide"
    }
   },
   "source": [
    "### Actividad: 💎 DCCobblestone ⛏"
   ]
  },
  {
   "cell_type": "markdown",
   "id": "edc91bc2",
   "metadata": {
    "slideshow": {
     "slide_type": "fragment"
    }
   },
   "source": [
    "<center><img src=\"./imagenes/dccobblestone.jpg\"/></center>"
   ]
  },
  {
   "cell_type": "markdown",
   "id": "337876d5",
   "metadata": {
    "slideshow": {
     "slide_type": "slide"
    }
   },
   "source": [
    "Tus amigos te han invitado a jugar a un famoso juego de minería: DCCobblestone ⛏. Te parece una buena idea, por lo que decides aceptar. ¿El problema? La página está caída 📉.\n",
    "\n",
    "Con tus conocimientos de Networking y Sockets decides crear tu propia copia del simulador de minería  (que se juegue a través de la consola… no hay tanto presupuesto 💰). Para ello, deberás escribir un cliente que sea capaz de enviar y recibir mensajes, y un servidor que pueda almacenar información de los jugadores y procesar las acciones que se realizan. \n",
    "\n",
    "¡A trabajar 👨‍💻! "
   ]
  },
  {
   "cell_type": "markdown",
   "id": "00935cbb",
   "metadata": {
    "slideshow": {
     "slide_type": "slide"
    }
   },
   "source": [
    "\n",
    "Para que tu simulador resulte en una experiencia divertida, deberás implementar lo siguiente:\n",
    "* El servidor debe ser capaz de aceptar múltiples jugadores.\n",
    "* Los mensajes se deben codificar en chunks de largo 60 bytes.\n",
    "* Se debe codificar en _byteorder big_.\n",
    "* El servidor debe verificar que los mensajes tengan un largo entre 5 y 60 bytes (sin contar x00), en caso contrario no debe responder.\n",
    "* El servidor debe verificar que el mensaje sea un comando válido. Este puede ser `\"minar\"` o `\"stats\"`.\n",
    "* Si el mensaje es el comando `\"minar\"`, el servidor debe actualizar las estadísticas del jugador en cuestión y comunicar qué es lo que se minó a todos los jugadores conectados.\n",
    "* Si el mensaje es el comando `\"stats\"`, el servidor debe enviar al jugador un string con los materiales que ha recolectado.\n",
    "* Si el mensaje es un comando no válido, el servidor tiene que comunicarlo al jugador.\n"
   ]
  },
  {
   "cell_type": "markdown",
   "id": "3ea20ff4",
   "metadata": {
    "slideshow": {
     "slide_type": "slide"
    }
   },
   "source": [
    "#### Servidor"
   ]
  },
  {
   "cell_type": "code",
   "execution_count": null,
   "id": "4129d9c8",
   "metadata": {
    "slideshow": {
     "slide_type": "slide"
    }
   },
   "outputs": [],
   "source": [
    "import json\n",
    "import socket\n",
    "import threading\n",
    "import random\n",
    "import sys\n",
    "\n",
    "class Servidor:\n",
    "\n",
    "    #Completar\n",
    "    def __init__(self, host, port):\n",
    "        pass"
   ]
  },
  {
   "cell_type": "code",
   "execution_count": null,
   "id": "0f127780",
   "metadata": {
    "slideshow": {
     "slide_type": "slide"
    }
   },
   "outputs": [],
   "source": [
    "class Miner:\n",
    "    id = 0\n",
    "    def __init__(self, socket_cliente):\n",
    "        self.id_minero = Miner.id\n",
    "        self.socket = socket_cliente\n",
    "        self.materiales = {\n",
    "            \"Carbon\" : 0,\n",
    "            \"Hierro\" : 0,\n",
    "            \"Oro\" : 0,\n",
    "            \"Diamante\" : 0\n",
    "        }\n",
    "        Miner.id += 1"
   ]
  },
  {
   "cell_type": "code",
   "execution_count": null,
   "id": "ab35c67a",
   "metadata": {
    "slideshow": {
     "slide_type": "slide"
    }
   },
   "outputs": [],
   "source": [
    "    #Completar\n",
    "    def aceptar_clientes(self):\n",
    "        pass"
   ]
  },
  {
   "cell_type": "code",
   "execution_count": null,
   "id": "baa5c574",
   "metadata": {
    "slideshow": {
     "slide_type": "slide"
    }
   },
   "outputs": [],
   "source": [
    "    #Completar\n",
    "    def escuchar_cliente(self, minero):\n",
    "        pass"
   ]
  },
  {
   "cell_type": "code",
   "execution_count": null,
   "id": "dadc6952",
   "metadata": {
    "slideshow": {
     "slide_type": "slide"
    }
   },
   "outputs": [],
   "source": [
    "    def recibir(self, socket_cliente):\n",
    "        largo_bytes_mensaje = socket_cliente.recv(4)\n",
    "        largo_mensaje = int.from_bytes(largo_bytes_mensaje, byteorder='big')\n",
    "        bytes_mensaje = bytearray()\n",
    "        while len(bytes_mensaje) < largo_mensaje:\n",
    "            bytes_mensaje += socket_cliente.recv(60)\n",
    "        bytes_mensaje_limpios = bytes_mensaje.strip(b'\\x00')\n",
    "        if 5 < len(bytes_mensaje_limpios) < 60:\n",
    "            mensaje = self.decodificar_mensaje(bytes_mensaje_limpios)\n",
    "            return mensaje\n",
    "        else:\n",
    "            return \"\""
   ]
  },
  {
   "cell_type": "code",
   "execution_count": null,
   "id": "13cab391",
   "metadata": {
    "slideshow": {
     "slide_type": "slide"
    }
   },
   "outputs": [],
   "source": [
    "    def enviar(self, mensaje, socket_cliente):\n",
    "        bytes_mensaje = self.codificar_mensaje(mensaje)\n",
    "        while len(bytes_mensaje) % 60 != 0:\n",
    "            bytes_mensaje += b'\\x00'\n",
    "        largo_bytes_mensaje = len(bytes_mensaje).to_bytes(4, byteorder='big')\n",
    "        socket_cliente.sendall(largo_bytes_mensaje + bytes_mensaje)"
   ]
  },
  {
   "cell_type": "code",
   "execution_count": null,
   "id": "d485fbca",
   "metadata": {
    "slideshow": {
     "slide_type": "slide"
    }
   },
   "outputs": [],
   "source": [
    "    def enviar_todos(self, mensaje):\n",
    "        for socket_cliente in self.clientes.values():\n",
    "            bytes_mensaje = self.codificar_mensaje(mensaje)\n",
    "            while len(bytes_mensaje) % 60 != 0:\n",
    "                bytes_mensaje += b'\\x00'\n",
    "            largo_bytes_mensaje = len(bytes_mensaje).to_bytes(4, byteorder='big')\n",
    "            socket_cliente.sendall(largo_bytes_mensaje + bytes_mensaje)"
   ]
  },
  {
   "cell_type": "code",
   "execution_count": null,
   "id": "68bf94f7",
   "metadata": {
    "slideshow": {
     "slide_type": "slide"
    }
   },
   "outputs": [],
   "source": [
    "    def codificar_mensaje(self, mensaje):\n",
    "        try:\n",
    "            mensaje_json = json.dumps(mensaje)\n",
    "            bytes_mensaje = mensaje_json.encode('utf-8')\n",
    "            return bytes_mensaje\n",
    "        except json.JSONDecodeError:\n",
    "            print('No se pudo codificar el mensaje')\n",
    "            return b''"
   ]
  },
  {
   "cell_type": "code",
   "execution_count": null,
   "id": "a28d674e",
   "metadata": {
    "slideshow": {
     "slide_type": "slide"
    }
   },
   "outputs": [],
   "source": [
    "    def decodificar_mensaje(self, bytes_mensaje):\n",
    "        try:\n",
    "            mensaje = json.loads(bytes_mensaje)\n",
    "            return mensaje\n",
    "        except json.JSONDecodeError:\n",
    "            print('No se pudo decodificar el mensaje')\n",
    "            return ''"
   ]
  },
  {
   "cell_type": "code",
   "execution_count": null,
   "id": "35544dde",
   "metadata": {
    "slideshow": {
     "slide_type": "slide"
    }
   },
   "outputs": [],
   "source": [
    "    def manejar_mensaje_recibido(self, mensaje, minero):\n",
    "        if mensaje == \"minar\":\n",
    "            material = random.choice([\"Carbon\", \"Hierro\", \"Oro\", \"Diamante\"])\n",
    "            cantidad = random.randint(1, 4)\n",
    "            minero.materiales[material] += cantidad\n",
    "\n",
    "            return f\"Minero #{minero.id_minero} ha minado {cantidad} de {material}\"\n",
    "        elif mensaje == \"stats\":\n",
    "            mensaje_stats = f\"Estadisticas del minero #{minero.id_minero}\"\n",
    "            for material in minero.materiales:\n",
    "                mensaje_stats += f\"\\n> {material} - {minero.materiales[material]}\"\n",
    "                \n",
    "            return mensaje_stats\n",
    "            \n",
    "        return \"Comando no válido\""
   ]
  },
  {
   "cell_type": "markdown",
   "id": "f9891f44",
   "metadata": {
    "slideshow": {
     "slide_type": "slide"
    }
   },
   "source": [
    "#### Cliente"
   ]
  },
  {
   "cell_type": "code",
   "execution_count": null,
   "id": "14011a5f",
   "metadata": {
    "slideshow": {
     "slide_type": "slide"
    }
   },
   "outputs": [],
   "source": [
    "class Cliente:\n",
    "\n",
    "    #Completar\n",
    "    def __init__(self, host, port):\n",
    "        pass"
   ]
  },
  {
   "cell_type": "code",
   "execution_count": null,
   "id": "7317bd5c",
   "metadata": {
    "slideshow": {
     "slide_type": "slide"
    }
   },
   "outputs": [],
   "source": [
    "    #Completar\n",
    "    def recibir_input(self):\n",
    "        pass"
   ]
  },
  {
   "cell_type": "code",
   "execution_count": null,
   "id": "349b0d0c",
   "metadata": {
    "slideshow": {
     "slide_type": "slide"
    }
   },
   "outputs": [],
   "source": [
    "    #Completar\n",
    "    def escuchar_servidor(self):\n",
    "        pass"
   ]
  },
  {
   "cell_type": "code",
   "execution_count": null,
   "id": "71349872",
   "metadata": {
    "slideshow": {
     "slide_type": "slide"
    }
   },
   "outputs": [],
   "source": [
    "    def recibir(self):\n",
    "        largo_bytes_mensaje = self.socket_cliente.recv(4)\n",
    "        largo_mensaje = int.from_bytes(largo_bytes_mensaje, byteorder='big')\n",
    "        bytes_mensaje = bytearray()\n",
    "        while len(bytes_mensaje) < largo_mensaje:\n",
    "            bytes_mensaje += self.socket_cliente.recv(60)\n",
    "        bytes_mensaje_limpios = bytes_mensaje.strip(b'\\x00')\n",
    "        mensaje = self.decodificar_mensaje(bytes_mensaje_limpios)\n",
    "        return mensaje"
   ]
  },
  {
   "cell_type": "code",
   "execution_count": null,
   "id": "86b83deb",
   "metadata": {
    "slideshow": {
     "slide_type": "slide"
    }
   },
   "outputs": [],
   "source": [
    "    def enviar(self, mensaje):\n",
    "        bytes_mensaje = self.codificar_mensaje(mensaje)\n",
    "        while len(bytes_mensaje) % 60 != 0:\n",
    "            bytes_mensaje += b'\\x00'\n",
    "        largo_bytes_mensaje = len(bytes_mensaje).to_bytes(4, byteorder='big')\n",
    "        self.socket_cliente.sendall(largo_bytes_mensaje + bytes_mensaje)"
   ]
  },
  {
   "cell_type": "code",
   "execution_count": null,
   "id": "4285795a",
   "metadata": {
    "slideshow": {
     "slide_type": "slide"
    }
   },
   "outputs": [],
   "source": [
    "    def codificar_mensaje(self, mensaje):\n",
    "        try:\n",
    "            mensaje_json = json.dumps(mensaje)\n",
    "            bytes_mensaje = mensaje_json.encode('utf-8')\n",
    "            return bytes_mensaje\n",
    "        except json.JSONDecodeError:\n",
    "            print('No se pudo codificar el mensaje')\n",
    "            return b''"
   ]
  },
  {
   "cell_type": "code",
   "execution_count": null,
   "id": "dd9f0523",
   "metadata": {
    "slideshow": {
     "slide_type": "slide"
    }
   },
   "outputs": [],
   "source": [
    "    def decodificar_mensaje(self, bytes_mensaje):\n",
    "        try:\n",
    "            mensaje = json.loads(bytes_mensaje)\n",
    "            return mensaje\n",
    "        except json.JSONDecodeError:\n",
    "            print('No se pudo decodificar el mensaje')\n",
    "            return ''"
   ]
  },
  {
   "cell_type": "code",
   "execution_count": null,
   "id": "655d2d3d",
   "metadata": {
    "slideshow": {
     "slide_type": "slide"
    }
   },
   "outputs": [],
   "source": [
    "    def manejar_mensaje_recibido(self, mensaje):\n",
    "        # Aquí va la lógica de recibir el mensaje, pero en este caso el cliente únicamente imprime la información\n",
    "        pass"
   ]
  }
 ],
 "metadata": {
  "celltoolbar": "Slideshow",
  "kernelspec": {
   "display_name": "Python 3 (ipykernel)",
   "language": "python",
   "name": "python3"
  },
  "language_info": {
   "codemirror_mode": {
    "name": "ipython",
    "version": 3
   },
   "file_extension": ".py",
   "mimetype": "text/x-python",
   "name": "python",
   "nbconvert_exporter": "python",
   "pygments_lexer": "ipython3",
   "version": "3.8.10"
  },
  "vscode": {
   "interpreter": {
    "hash": "2a8dfe095fce2b5e88c64a2c3ee084c8e0e0d70b23e7b95b1cfb538be294c5c8"
   }
  }
 },
 "nbformat": 4,
 "nbformat_minor": 5
}
