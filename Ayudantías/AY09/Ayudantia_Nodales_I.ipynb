{
 "cells": [
  {
   "cell_type": "markdown",
   "metadata": {},
   "source": [
    "# Ayudantía 9: Estructuras Nodales I"
   ]
  },
  {
   "cell_type": "markdown",
   "metadata": {},
   "source": [
    "### Estructura principal: Nodo\n",
    " #### ¿Qué es un nodo?\n",
    " Son objetos simples que pueden ser relacionados entre sí para crear estructuras más complejas\n"
   ]
  },
  {
   "cell_type": "markdown",
   "metadata": {},
   "source": [
    "<img src=\"img/nodo.png\"/>"
   ]
  },
  {
   "cell_type": "markdown",
   "metadata": {},
   "source": [
    "Un nodo tiene las siguientes propiedades:\n",
    "- **Valor** : Es el valor contenido en el nodo (tal como una variable o un elemento de una lista)\n",
    "- **Puntero** : Es una *referencia* a el(los) nodo(s) vecinos/hijos. Puede ser una lista con los nodos vecinos o tomar otra forma según el contexto.\n",
    "\n",
    "- **Llave/Id** (Opcional)  : Es un valor único que se le da a cada nodo dentro de un grafo, nos puede servir para diferenciar nodos parecidos."
   ]
  },
  {
   "cell_type": "code",
   "execution_count": 1,
   "metadata": {},
   "outputs": [],
   "source": [
    "# Estructura básica de un nodo con un vecino\n",
    "\n",
    "class Nodo:\n",
    "    def __init__(self, valor=None, siguiente=None):\n",
    "        self.valor = valor # El valor de este nodo\n",
    "        self.nodo_siguiente = siguiente # El nodo vecino"
   ]
  },
  {
   "cell_type": "code",
   "execution_count": 2,
   "metadata": {},
   "outputs": [],
   "source": [
    "# Un Nodo con un número arbitrario de vecinos\n",
    "\n",
    "class Nodo:\n",
    "    def __init__(self, valor=None):\n",
    "        self.valor = valor\n",
    "        self.nodos_vecinos = [] # Los vecinos\n",
    "\n",
    "    def agregar_vecino(self, nuevo_vecino):\n",
    "        # Agrega un vecino a la lista de vecinos\n",
    "        self.nodos_vecinos.append(nuevo_vecino)\n",
    "\n",
    "    def __repr__(self):\n",
    "        return f\"Nodo con el valor {self.valor}\""
   ]
  },
  {
   "cell_type": "markdown",
   "metadata": {},
   "source": [
    "## Listas Ligadas\n",
    "Las listas ligadas son secuencias de nodos en forma lineal (cada nodo tiene un *puntero* excepto el último nodo de la lista). Se las pueden imaginar como lo siguiente:"
   ]
  },
  {
   "cell_type": "markdown",
   "metadata": {},
   "source": [
    "<img src=\"img/ListaLigadaEj.png\" />"
   ]
  },
  {
   "cell_type": "markdown",
   "metadata": {},
   "source": [
    "#### Son muy similares a las listas que ya conocemos, pero se diferencian en la forma en que se almacenan en la memoria.\n",
    "\n",
    "Así se ve una lista normal:\n",
    "<br>\n",
    "\n",
    "<img src=\"img/ArrayList.png\" />\n",
    "<br>\n",
    "\n",
    "Y así se ve una lista ligada:\n",
    "<br>\n",
    "\n",
    "<img src=\"img/LinkedList.png\" />"
   ]
  },
  {
   "cell_type": "markdown",
   "metadata": {},
   "source": [
    "### Construyamos una lista ligada paso a paso\n",
    "En primer lugar, tenemos que crear una estructura nodal que represente cada elemento de nuestra lista ligada"
   ]
  },
  {
   "cell_type": "code",
   "execution_count": 3,
   "metadata": {},
   "outputs": [],
   "source": [
    "class Nodo:\n",
    "    def __init__(self, valor):\n",
    "        self.valor = valor\n",
    "        self.siguiente = None"
   ]
  },
  {
   "cell_type": "markdown",
   "metadata": {},
   "source": [
    "Luego, creamos una estructura para guardar nuestra lista y así poder accederla. En este caso guardaremos una referencia solo al **primer elemento** de la lista, al que llamaremos *cabeza*. A partir del primer nodo podemos llegar a todos los otros elementos de la lista. También guardaremos la cantidad de elementos que tiene la lista"
   ]
  },
  {
   "cell_type": "code",
   "execution_count": 4,
   "metadata": {},
   "outputs": [],
   "source": [
    "class ListaLigada:\n",
    "    def __init__(self):\n",
    "        self.cabeza = None\n",
    "        self.largo = 0\n",
    "    \n",
    "    # Añadimos un método para agregarle nodos a la lista\n",
    "    def agregar_elemento(self, valor):\n",
    "        if self.cabeza is None:\n",
    "            self.cabeza = Nodo(valor)\n",
    "        else:\n",
    "            antigua_cabeza = self.cabeza\n",
    "            self.cabeza = Nodo(valor)\n",
    "            self.cabeza.siguiente = antigua_cabeza\n",
    "        self.largo += 1\n",
    "    \n",
    "    # o para quitarle nodos\n",
    "    def quitar_elemento(self):\n",
    "        if self.cabeza is None:\n",
    "            return None\n",
    "        valor = self.cabeza.valor\n",
    "        self.cabeza = self.cabeza.siguiente\n",
    "        self.largo -= 1\n",
    "        return valor"
   ]
  },
  {
   "cell_type": "markdown",
   "metadata": {},
   "source": [
    "Notemos que en este caso el nodo *cabeza* va cambiando a medida que se le agregan o quitan elementos a la lista, esto significa que la *cabeza* será el último nodo que agregamos, y será el primer nodo que eliminemos.\n",
    "\n",
    "Y así implementamos un *stack* eficiente! Veámoslo en acción:"
   ]
  },
  {
   "cell_type": "code",
   "execution_count": 5,
   "metadata": {},
   "outputs": [
    {
     "name": "stdout",
     "output_type": "stream",
     "text": [
      "3\n",
      "2\n",
      "1\n"
     ]
    }
   ],
   "source": [
    "lista = ListaLigada()\n",
    "lista.agregar_elemento(1)\n",
    "lista.agregar_elemento(2)\n",
    "lista.agregar_elemento(3)\n",
    "\n",
    "while lista.largo != 0:\n",
    "  print(lista.quitar_elemento())"
   ]
  },
  {
   "cell_type": "markdown",
   "metadata": {},
   "source": [
    "Además se pueden hacer **listas ligadas circulares**, donde el puntero del último elemento referencia al primero, de esta forma se puede recorrer cíclicamente la lista (pero sólo en una dirección)"
   ]
  },
  {
   "cell_type": "markdown",
   "metadata": {},
   "source": [
    "## Listas doblemente ligadas\n",
    "La lista doblemente ligada se diferencia de la lista ligada en que contiene una referencia al **primer y último** nodo de la lista, y cada nodo tiene referencia al nodo que lo **precede** y que lo **antecede**. Te la puedes imaginar como lo siguiente:\n",
    "<br>\n",
    "\n",
    "<img src=\"img/ListasDobles.jpg\"/>\n",
    "\n",
    "Implementemos una cola con esta estructura:\n",
    "\n",
    "Primero, creamos la estructura de cada nodo (notar que ahora también existe el atributo ``self.anterior`` para referirse al nodo anterior en la lista)"
   ]
  },
  {
   "cell_type": "code",
   "execution_count": 6,
   "metadata": {},
   "outputs": [],
   "source": [
    "class Nodo:\n",
    "    def __init__(self, valor):\n",
    "        self.valor = valor\n",
    "        self.siguiente = None\n",
    "        self.anterior = None"
   ]
  },
  {
   "cell_type": "markdown",
   "metadata": {},
   "source": [
    "Y luego creamos nuestra lista doblemente ligada (notar que ahora también existe el atributo ``self.cola`` para referirse al último nodo de la lista)"
   ]
  },
  {
   "cell_type": "code",
   "execution_count": 7,
   "metadata": {},
   "outputs": [],
   "source": [
    "class ListaDoblementeLigada:\n",
    "    def __init__(self):\n",
    "        self.cabeza = None\n",
    "        self.cola = None\n",
    "        self.largo = 0\n",
    "\n",
    "    # Añadimos un método para agregar nodos a la lista\n",
    "    def agregar_elemento(self, valor):\n",
    "        if self.cabeza is None: # si cabeza es None cola también lo será\n",
    "            self.cabeza = Nodo(valor)\n",
    "            self.cola = self.cabeza\n",
    "        else:\n",
    "            antigua_cabeza = self.cabeza\n",
    "            self.cabeza = Nodo(valor)\n",
    "            self.cabeza.siguiente = antigua_cabeza\n",
    "            antigua_cabeza.anterior = self.cabeza\n",
    "        self.largo += 1\n",
    "    \n",
    "    # o para quitarlos (ojo que en este ejemplo quitamos el último nodo (cola) en lugar del nodo cabeza)\n",
    "    def quitar_elemento(self):\n",
    "        if self.cola is None:\n",
    "            return None\n",
    "        valor = self.cola.valor\n",
    "        self.cola = self.cola.anterior\n",
    "        if self.cola is not None:\n",
    "            self.cola.siguiente = None\n",
    "        else:\n",
    "            self.cabeza = None\n",
    "        self.largo -= 1\n",
    "        return valor"
   ]
  },
  {
   "cell_type": "markdown",
   "metadata": {},
   "source": [
    "Y así tenemos una cola (*queue*) eficiente! Veamosla en acción:"
   ]
  },
  {
   "cell_type": "code",
   "execution_count": 8,
   "metadata": {},
   "outputs": [
    {
     "name": "stdout",
     "output_type": "stream",
     "text": [
      "1\n",
      "2\n",
      "3\n"
     ]
    }
   ],
   "source": [
    "cola = ListaDoblementeLigada()\n",
    "\n",
    "cola.agregar_elemento(1)\n",
    "cola.agregar_elemento(2)\n",
    "cola.agregar_elemento(3)\n",
    "\n",
    "while cola.largo != 0:\n",
    "  print(cola.quitar_elemento())"
   ]
  },
  {
   "cell_type": "markdown",
   "metadata": {},
   "source": [
    "#### Otras implementaciones de las listas doblemente ligadas\n",
    " Existen varias implementaciones de las listas ligadas/doblemente ligadas, dejamos la implementación de varios métodos de éstas últimas (no las implementaremos en la ayudantía, pero quedarán acá para l@s curios@s, son **muy** útiles)"
   ]
  },
  {
   "cell_type": "code",
   "execution_count": 9,
   "metadata": {},
   "outputs": [],
   "source": [
    "class ListaDoblementeLigada(ListaDoblementeLigada):\n",
    "\n",
    "    # recuperar el valor del nodo en una posición dada\n",
    "    # notar que se cuenta la posición desde la *cola* de la lista \n",
    "    # (considerando n = posicion) el valor retornado es el que se obtendría de quitar n nodos de la lista\n",
    "    def recuperar_valor(self, posicion):\n",
    "        if posicion >= self.largo:\n",
    "            raise IndexError\n",
    "        nodo = self.cola\n",
    "        for _ in range(posicion):\n",
    "            nodo = nodo.anterior # avanzamos la cantidad de nodos necesaria para llegar a la posicion\n",
    "        return nodo.valor      # retornamos el valor\n",
    "\n",
    "    # insertar un valor (nodo) en una posición dada\n",
    "    def insertar_valor(self, valor, posicion):\n",
    "        if posicion > self.largo:\n",
    "            raise IndexError\n",
    "        nodo = self.cola\n",
    "        if posicion == 0: # insertar al comienzo de nuestra cola (luego de insertarlo, éste será el primer nodo en salir (con self.quitar_elemento ))\n",
    "            if nodo is None: # caso borde, no hay nodos en la lista\n",
    "                self.cola = Nodo(valor)\n",
    "                self.cabeza = self.cola\n",
    "            else: # Hay nodos en la lista pero agregamos al comienzo (en la *cola* de nuestra lista doblemente ligada)\n",
    "                nodo.siguiente = Nodo(valor)\n",
    "                nodo.siguiente.anterior = nodo\n",
    "                self.cola = nodo.siguiente\n",
    "        else:\n",
    "            for _ in range(posicion - 1):\n",
    "                nodo = nodo.anterior # avanzamos para llegar hasta un nodo antes del nodo deseado\n",
    "            anterior = nodo.anterior\n",
    "            nodo.anterior = Nodo(valor) # agregamos el nodo en la posición correcta (1 despues del que buscamos)\n",
    "            nodo.anterior.siguiente = nodo # hacemos las conexiones necesarias\n",
    "            nodo.anterior.anterior = anterior\n",
    "            if anterior is not None:\n",
    "                anterior.siguiente = nodo.anterior\n",
    "            else: # caso borde, estamos ingresando al final de la lista\n",
    "                self.cabeza = nodo.anterior\n",
    "        self.largo += 1\n",
    "    \n",
    "    # Eliminar el elemento (nodo) en una posición dada\n",
    "    def eliminar_posicion(self, posicion):\n",
    "        if posicion >= self.largo:\n",
    "            raise IndexError\n",
    "        if posicion == 0:\n",
    "            if self.largo == 1: # Caso borde, la lista tiene un solo elemento\n",
    "                valor = self.cola.valor\n",
    "                self.cabeza = None\n",
    "                self.cola = None\n",
    "            else: # Eliminamos el primer elemento y hay elementos en la lista\n",
    "                valor = self.cola.valor\n",
    "                self.cola = self.cola.anterior\n",
    "                self.cola.siguiente = None\n",
    "        else:\n",
    "            nodo = self.cola\n",
    "            for _ in range(posicion - 1):\n",
    "                nodo = nodo.anterior # Nos movemos hasta uno antes del nodo que queremos eliminar\n",
    "            valor = nodo.anterior.valor\n",
    "            nodo.anterior = nodo.anterior.anterior # desconectamos el nodo\n",
    "            if nodo.anterior is not None:\n",
    "                nodo.anterior.siguiente = nodo\n",
    "            else: # caso borde, estamos eliminando el ultimo nodo\n",
    "                self.cabeza = nodo\n",
    "        self.largo -= 1\n",
    "        return valor\n",
    "\n",
    "    # para imprimir la lista (se muestra como una lista común)\n",
    "    def __str__(self): \n",
    "        n = self.cola\n",
    "        s = \"[\"\n",
    "        while n is not None:\n",
    "            s += str(n.valor) + (\", \" if n.anterior is not None else \"\")\n",
    "            n = n.anterior\n",
    "        s += \"]\"\n",
    "        return s"
   ]
  },
  {
   "cell_type": "markdown",
   "metadata": {},
   "source": [
    "Veamos estos métodos en acción:"
   ]
  },
  {
   "cell_type": "code",
   "execution_count": 10,
   "metadata": {},
   "outputs": [
    {
     "name": "stdout",
     "output_type": "stream",
     "text": [
      "[2, 8, 4]\n",
      "2\n",
      "8\n",
      "4\n"
     ]
    }
   ],
   "source": [
    "lista = ListaDoblementeLigada()\n",
    "\n",
    "lista.agregar_elemento(1) # -> [1]\n",
    "lista.agregar_elemento(2) # -> [1 , 2]\n",
    "lista.agregar_elemento(3) # -> [1, 2, 3]\n",
    "lista.quitar_elemento() # quitamos el primer elemento -> [2, 3]\n",
    "lista.insertar_valor(4, 2) # agregamos un 4 en la posición 2 (última) -> [2, 3, 4]\n",
    "lista.insertar_valor(8, 2) # insertamos un 8 en la posición 2 -> [2, 3, 8, 4]\n",
    "lista.eliminar_posicion(1) # eliminamos el nodo de la posición 1 -> [2, 8, 4]\n",
    "\n",
    "# imprimimos la lista resultante\n",
    "print(lista)\n",
    "\n",
    "# recupera el valor de las posiciones de nuestra lista\n",
    "print(lista.recuperar_valor(0))\n",
    "print(lista.recuperar_valor(1))\n",
    "print(lista.recuperar_valor(2))"
   ]
  },
  {
   "cell_type": "markdown",
   "id": "5a6f2a55",
   "metadata": {},
   "source": [
    "## Árboles ##\n",
    "Al contrario de las Listas Ligadas, los árboles son estructuras no lineales, y estos siguen una estructura jerárquica. De esta forma, los nodos se ordenan a través de relaciones padre-hijo.\n",
    "\n",
    "\n",
    "- Tiene un nodo **raiz**, sin un padre.\n",
    "- Todos los demás nodos poseen un sólo padre.\n",
    "- Como consecuencia de lo anterior, **los árboles no poseen cilcos**.\n",
    "<!-- -->\n",
    "- **Árboles Binarios:** cada nodo puede poseer a lo más dos hijos (uno izquierdo y otro derecho).\n",
    "\n",
    "Con estas propiedades existen otros conceptos que se pueden aplicar a los árboles. Ancestros, descendientes, niveles, nodos hoja, etc."
   ]
  },
  {
   "cell_type": "code",
   "execution_count": 12,
   "id": "6ce613d7",
   "metadata": {},
   "outputs": [],
   "source": [
    "\n",
    "class Nodo:\n",
    "    \n",
    "    def __init__(self, llave, valor, padre=None):\n",
    "        self.padre = padre\n",
    "        self.hijos = []\n",
    "        self.llave = llave\n",
    "        self.valor = valor\n",
    "        \n",
    "    ## Imprime la descendencia de un nodo\n",
    "    def diagrama_desendencia(self, indent=0):\n",
    "        diagrama = str(self)\n",
    "        for hijo in self.hijos:\n",
    "            diagrama += \"\\n\" + indent * \"    \" + \"└───\" + hijo.diagrama_desendencia(indent + 1)\n",
    "        return diagrama\n",
    "    \n",
    "    ## Equivalente a __str__. Imprime la llave del nodo junto con su valor\n",
    "    def __repr__(self):\n",
    "        return str(self.llave) + \"[\" + str(self.valor) + \"]\"\n",
    "\n",
    "class Arbol:\n",
    "\n",
    "    \n",
    "    def __init__(self, raiz = None):\n",
    "        self.raiz = raiz\n",
    "\n",
    "    ## Reprsentación del árbol. Imprime la descendencia de la raiz.\n",
    "    def __repr__(self, indent=0):\n",
    "        return self.raiz.diagrama_desendencia()"
   ]
  },
  {
   "cell_type": "code",
   "execution_count": 13,
   "id": "01767f67",
   "metadata": {},
   "outputs": [
    {
     "name": "stdout",
     "output_type": "stream",
     "text": [
      "0[0]\n",
      "└───1[8]\n",
      "    └───2[5]\n",
      "        └───3[3]\n",
      "            └───6[3]\n",
      "                └───11[3]\n",
      "                └───12[3]\n",
      "        └───4[5]\n",
      "            └───7[5]\n",
      "            └───8[7]\n",
      "            └───9[6]\n",
      "        └───5[4]\n",
      "            └───10[6]\n"
     ]
    }
   ],
   "source": [
    "### Poblamos el árbol ###\n",
    "\n",
    "from random import seed, randint\n",
    "# Se determinan los siguientes procesos aleatorios\n",
    "seed(2233)\n",
    "\n",
    "arbol = Arbol()\n",
    "arbol.raiz = Nodo(0, 0)\n",
    "nodos = [arbol.raiz]\n",
    "id_actual = 1\n",
    "for i in range(10):\n",
    "    if nodos:\n",
    "        nodo = nodos.pop(0)\n",
    "    # Le agregamos entre 0 y 3 hijos\n",
    "    for i in range(randint(0,3)):\n",
    "        # usamos valores aleatorios entre 1 y 9\n",
    "        hijo = Nodo(llave=id_actual, valor=randint(1,9), padre=nodo)\n",
    "        id_actual += 1\n",
    "        nodos.append(hijo)\n",
    "        nodo.hijos.append(hijo)\n",
    "print(arbol)\n",
    "\n"
   ]
  },
  {
   "cell_type": "markdown",
   "id": "dcbb2c86",
   "metadata": {},
   "source": [
    "## Depth First Search (DFS)\n",
    "\n",
    "En traducción, sería \"búsqueda por profundidad primero\". Recorre los nodos a lo largo de cada rama del árbol, llegando al punto más profundo de cada una.\n"
   ]
  },
  {
   "cell_type": "code",
   "execution_count": 14,
   "id": "b92855c2",
   "metadata": {},
   "outputs": [
    {
     "name": "stdout",
     "output_type": "stream",
     "text": [
      "0[0]\n",
      "1[8]\n",
      "2[5]\n",
      "3[3]\n",
      "6[3]\n",
      "11[3]\n",
      "12[3]\n",
      "4[5]\n",
      "7[5]\n",
      "8[7]\n",
      "9[6]\n",
      "5[4]\n",
      "Nodo encontrado: 5[4]\n"
     ]
    }
   ],
   "source": [
    "def dfs(arbol, id):\n",
    "    pendientes = [arbol.raiz]\n",
    "    while pendientes:\n",
    "        nodo = pendientes.pop(0)\n",
    "        pendientes = nodo.hijos + pendientes # <- Acá está la diferencia entre dfs y bfs\n",
    "        print(nodo)\n",
    "        if nodo.llave == id:\n",
    "            return nodo\n",
    "\n",
    "print(\"Nodo encontrado:\", dfs(arbol, 5))"
   ]
  },
  {
   "cell_type": "markdown",
   "id": "c8b44220",
   "metadata": {},
   "source": [
    "## Breadth First Search (BFS)\n",
    "\n",
    "En traducción, sería \"búsqueda por anchura primero\". Recorre los nodos descendiendo a través de los niveles del árbol. Busca los nodos según su distancia a la raíz."
   ]
  },
  {
   "cell_type": "code",
   "execution_count": 15,
   "id": "5a9b381c",
   "metadata": {},
   "outputs": [
    {
     "name": "stdout",
     "output_type": "stream",
     "text": [
      "0[0]\n",
      "1[8]\n",
      "2[5]\n",
      "3[3]\n",
      "4[5]\n",
      "5[4]\n",
      "6[3]\n",
      "7[5]\n",
      "8[7]\n",
      "Nodo encontrado: 8[7]\n"
     ]
    }
   ],
   "source": [
    "def bfs(arbol, id):\n",
    "    pendientes = [arbol.raiz]\n",
    "    while pendientes:\n",
    "        nodo = pendientes.pop(0)\n",
    "        pendientes += nodo.hijos # <- Acá está la diferencia entre dfs y bfs\n",
    "        print(nodo)\n",
    "        if nodo.llave == id:\n",
    "            return nodo\n",
    "\n",
    "print(\"Nodo encontrado:\", bfs(arbol, 8))"
   ]
  }
 ],
 "metadata": {
  "kernelspec": {
   "display_name": "Python 3.10.7 64-bit",
   "language": "python",
   "name": "python3"
  },
  "language_info": {
   "codemirror_mode": {
    "name": "ipython",
    "version": 3
   },
   "file_extension": ".py",
   "mimetype": "text/x-python",
   "name": "python",
   "nbconvert_exporter": "python",
   "pygments_lexer": "ipython3",
   "version": "3.10.7"
  },
  "vscode": {
   "interpreter": {
    "hash": "3d954efd7173ac33e00cb143e359c1ef1f0406e120e84a918a8a3a49721c6fc9"
   }
  }
 },
 "nbformat": 4,
 "nbformat_minor": 5
}
