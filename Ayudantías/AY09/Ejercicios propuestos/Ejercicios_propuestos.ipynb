{
 "cells": [
  {
   "cell_type": "markdown",
   "metadata": {},
   "source": [
    "## Ejercicios Propuestos"
   ]
  },
  {
   "cell_type": "code",
   "execution_count": 5,
   "metadata": {},
   "outputs": [],
   "source": [
    "\n",
    "class Nodo:\n",
    "    \n",
    "    def __init__(self, llave, valor, padre=None):\n",
    "        self.padre = padre\n",
    "        self.hijos = []\n",
    "        self.llave = llave\n",
    "        self.valor = valor\n",
    "        \n",
    "    ## Imprime la desendencia de un nodo\n",
    "    def diagrama_desendencia(self, indent=0):\n",
    "        diagrama = str(self)\n",
    "        for hijo in self.hijos:\n",
    "            diagrama += \"\\n\" + indent * \"    \" + \"└───\" + hijo.diagrama_desendencia(indent + 1)\n",
    "        return diagrama\n",
    "    \n",
    "    ## Equivalente a __str__. Imprime la llave del nodo junto\n",
    "    def __repr__(self):\n",
    "        return str(self.llave) + \"[\" + str(self.valor) + \"]\"\n",
    "\n",
    "class Arbol:\n",
    "\n",
    "    \n",
    "    def __init__(self):\n",
    "        self.raiz = None\n",
    "\n",
    "    def __repr__(self, indent=0):\n",
    "        return self.raiz.diagrama_desendencia()"
   ]
  },
  {
   "cell_type": "code",
   "execution_count": 11,
   "metadata": {},
   "outputs": [
    {
     "name": "stdout",
     "output_type": "stream",
     "text": [
      "0[0]\n",
      "└───1[8]\n",
      "    └───2[5]\n",
      "        └───3[3]\n",
      "            └───6[3]\n",
      "                └───11[3]\n",
      "                └───12[3]\n",
      "        └───4[5]\n",
      "            └───7[5]\n",
      "            └───8[7]\n",
      "            └───9[6]\n",
      "        └───5[4]\n",
      "            └───10[6]\n"
     ]
    }
   ],
   "source": [
    "### Poblamos el árbol ###\n",
    "\n",
    "from random import seed, randint\n",
    "# Se determinan los siguientes procesos aleatorios\n",
    "seed(2233)\n",
    "\n",
    "arbol = Arbol()\n",
    "arbol.raiz = Nodo(0, 0)\n",
    "nodos = [arbol.raiz]\n",
    "id_actual = 1\n",
    "for i in range(10):\n",
    "    if nodos:\n",
    "        nodo = nodos.pop(0)\n",
    "    # Le agregamos entre 0 y 3 hijos\n",
    "    for i in range(randint(0,3)):\n",
    "        # usamos valores aleatorios entre 1 y 9\n",
    "        hijo = Nodo(llave=id_actual, valor=randint(1,9), padre=nodo)\n",
    "        id_actual += 1\n",
    "        nodos.append(hijo)\n",
    "        nodo.hijos.append(hijo)\n",
    "print(arbol)\n",
    "\n"
   ]
  },
  {
   "cell_type": "markdown",
   "metadata": {},
   "source": [
    "**1.** Calcule la distancia entre un nodo cualquiera y un nodo descendiente usando una función recursiva."
   ]
  },
  {
   "cell_type": "code",
   "execution_count": 13,
   "metadata": {},
   "outputs": [],
   "source": [
    "\n",
    "def calcular_distancia(nodo_1, nodo_2):\n",
    "    pass\n",
    "    \n",
    "    "
   ]
  },
  {
   "cell_type": "code",
   "execution_count": 14,
   "metadata": {},
   "outputs": [
    {
     "name": "stdout",
     "output_type": "stream",
     "text": [
      "None\n"
     ]
    }
   ],
   "source": [
    "def dfs(arbol, id):\n",
    "    pendientes = [arbol.raiz]\n",
    "    while pendientes:\n",
    "        nodo = pendientes.pop(0)\n",
    "        pendientes = nodo.hijos + pendientes # <- Acá está la diferencia entre dfs y bfs\n",
    "        if nodo.llave == id:\n",
    "            return nodo\n",
    "\n",
    "nodo = dfs(arbol, 5)\n",
    "print(calcular_distancia(arbol.raiz, nodo))"
   ]
  },
  {
   "cell_type": "markdown",
   "metadata": {},
   "source": [
    "**2.** Si elegimos un nodo arbitrario dentro de un árbol y le quitamos su padre, obtenemos un nuevo árbol (un subárbol del original). Sabiendo esto, complete el algoritmo de búsqueda para encontrar un sub-árbol dentro de un árbol."
   ]
  },
  {
   "cell_type": "code",
   "execution_count": 15,
   "metadata": {},
   "outputs": [],
   "source": [
    "# cambiar a existe_subarbol, inicializar variables de arbol y nodo por defecto\n",
    "def encontrar_arbol(arbol, subarbol):\n",
    "    # Retorna verdadero si el subarbol se encunetra en el arbol\n",
    "    pass"
   ]
  },
  {
   "cell_type": "code",
   "execution_count": 16,
   "metadata": {},
   "outputs": [
    {
     "name": "stdout",
     "output_type": "stream",
     "text": [
      "4[5]\n",
      "└───7[5]\n",
      "└───8[7]\n",
      "└───9[6]\n"
     ]
    }
   ],
   "source": [
    "raiz = Nodo(4, 5)\n",
    "raiz.hijos = [\n",
    "    Nodo(7, 5, raiz),\n",
    "    Nodo(8, 7, raiz),\n",
    "    Nodo(9, 6, raiz)\n",
    "]\n",
    "arbol_2 = Arbol()\n",
    "arbol_2.raiz = raiz\n",
    "\n",
    "print(arbol_2)\n",
    "encontrar_arbol(arbol, arbol_2)"
   ]
  }
 ],
 "metadata": {
  "kernelspec": {
   "display_name": "Python 3.10.7 64-bit",
   "language": "python",
   "name": "python3"
  },
  "language_info": {
   "codemirror_mode": {
    "name": "ipython",
    "version": 3
   },
   "file_extension": ".py",
   "mimetype": "text/x-python",
   "name": "python",
   "nbconvert_exporter": "python",
   "pygments_lexer": "ipython3",
   "version": "3.10.7"
  },
  "vscode": {
   "interpreter": {
    "hash": "3d954efd7173ac33e00cb143e359c1ef1f0406e120e84a918a8a3a49721c6fc9"
   }
  }
 },
 "nbformat": 4,
 "nbformat_minor": 2
}
