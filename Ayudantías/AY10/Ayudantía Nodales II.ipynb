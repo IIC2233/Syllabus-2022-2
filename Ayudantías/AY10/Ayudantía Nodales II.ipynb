{
 "cells": [
  {
   "cell_type": "markdown",
   "id": "5d2b47c7",
   "metadata": {},
   "source": [
    "# 💠Ayudantía 10 - Estructuras Nodales II💠\n",
    "\n",
    "\n",
    "Ayudantes  👨‍💻\n",
    "* **Caua Paz**\n",
    "* **Pablo Acevedo**\n",
    "* **Valentina Barría**"
   ]
  },
  {
   "cell_type": "markdown",
   "id": "ee692b4c",
   "metadata": {},
   "source": [
    "# Grafos\n",
    "\n",
    "Un grafo es un conjunto no vacío compuesto por **nodos** y por las **relaciones entre estos nodos**.\n",
    "En teoría de grafos, a los nodos se les llama **vértices**; y a las relaciones entre ellos, **aristas**. "
   ]
  },
  {
   "cell_type": "markdown",
   "id": "0b942c40",
   "metadata": {},
   "source": [
    "Los grafos pueden ser **dirigidos** o **no dirigidos**. \n",
    "\n",
    "- **dirigido**: Significa que las relaciones entre los nodos **sí** tienen una orientación o dirección.\n",
    "\n",
    "- **no digiridos**: Las relaciones son simétricas\n",
    "![ejemplo](img/grafos.png)"
   ]
  },
  {
   "cell_type": "markdown",
   "id": "ca2e495d",
   "metadata": {},
   "source": [
    "## Representación\n",
    "\n",
    "Existen múltiples formas para representar grafos. En este curso examinaremos tres de ellas: representación con nodos, listas de adyacencia y matrices de adyacencia."
   ]
  },
  {
   "cell_type": "markdown",
   "id": "550b0562",
   "metadata": {},
   "source": [
    "### Representación con nodos"
   ]
  },
  {
   "cell_type": "code",
   "execution_count": 28,
   "id": "98b52e00",
   "metadata": {},
   "outputs": [],
   "source": [
    "# Nodo de un grafo\n",
    "class Nodo:\n",
    "\n",
    "    # Un nodo está compuesto por el valor que almacena y una lista de sus nodos vecinos\n",
    "    def __init__(self, valor):\n",
    "        self.valor = valor\n",
    "        self.vecinos = []\n",
    "\n",
    "    def agregar_vecino(self, nodo):\n",
    "        self.vecinos.append(nodo)\n",
    "\n",
    "    def __repr__(self):\n",
    "        texto = f\"[{self.valor}]\"\n",
    "        if len(self.vecinos) > 0:\n",
    "            textos_vecinos = [f\"[{vecino.valor}]\" for vecino in self.vecinos]\n",
    "            texto += \" -> \" + \", \".join(textos_vecinos)\n",
    "        return texto"
   ]
  },
  {
   "cell_type": "markdown",
   "id": "3f7f6880",
   "metadata": {},
   "source": [
    "Vamos a crear el grafo _dirigido_ de la imagen de arriba:\n",
    "![ejemplo](img/grafo_dirigido.png)"
   ]
  },
  {
   "cell_type": "code",
   "execution_count": 29,
   "id": "e23f4c52",
   "metadata": {},
   "outputs": [],
   "source": [
    "#¿Como hago para que se vea más chiquita?"
   ]
  },
  {
   "cell_type": "code",
   "execution_count": 30,
   "id": "56d5f982",
   "metadata": {},
   "outputs": [],
   "source": [
    "nodo_1 = Nodo(1)\n",
    "nodo_2 = Nodo(2)\n",
    "nodo_3 = Nodo(3)\n",
    "nodo_4 = Nodo(4)\n",
    "nodo_5 = Nodo(5)\n",
    "\n",
    "nodo_1.agregar_vecino(nodo_2)\n",
    "nodo_2.agregar_vecino(nodo_3) \n",
    "nodo_3.agregar_vecino(nodo_2) \n",
    "nodo_3.agregar_vecino(nodo_4)\n",
    "nodo_3.agregar_vecino(nodo_5) \n",
    "nodo_4.agregar_vecino(nodo_5)"
   ]
  },
  {
   "cell_type": "markdown",
   "id": "73a98f5b",
   "metadata": {},
   "source": [
    "Este es el resultado, tal y como esperábamos."
   ]
  },
  {
   "cell_type": "code",
   "execution_count": 31,
   "id": "25f37d29",
   "metadata": {},
   "outputs": [
    {
     "name": "stdout",
     "output_type": "stream",
     "text": [
      "[1] -> [2]\n",
      "[2] -> [3]\n",
      "[3] -> [2], [4], [5]\n",
      "[4] -> [5]\n",
      "[5]\n"
     ]
    }
   ],
   "source": [
    "print(nodo_1)\n",
    "print(nodo_2)\n",
    "print(nodo_3)\n",
    "print(nodo_4)\n",
    "print(nodo_5)"
   ]
  },
  {
   "cell_type": "markdown",
   "id": "a115ad3f",
   "metadata": {},
   "source": [
    "### Lista de Adyacencia"
   ]
  },
  {
   "cell_type": "markdown",
   "id": "cba10b96",
   "metadata": {},
   "source": [
    "Todos los vértices se guardan en una estructura, y a su vez para cada uno de ellos se guarda una lista con los vértices con los que está relacionados."
   ]
  },
  {
   "cell_type": "markdown",
   "id": "e3c4943e",
   "metadata": {},
   "source": [
    "Representaremos los grafos de más arriba:\n",
    "![ejemplo](img/grafos.png)"
   ]
  },
  {
   "cell_type": "code",
   "execution_count": 32,
   "id": "baa149f5",
   "metadata": {},
   "outputs": [],
   "source": [
    "# Aquí usamos diccionarios con llave: int y valor: list porque ofrece más facilidad de búsqueda.\n",
    "# Cada llave del diccionario es el valor de un vértice, y el valor asociado es la lista de vértices con conexión.\n",
    "\n",
    "grafo_no_dirigido = {1: [2], \n",
    "                     2: [1, 3], \n",
    "                     3: [2, 4, 5], \n",
    "                     4: [3, 5], \n",
    "                     5: [3, 4]\n",
    "                    }\n",
    "\n",
    "grafo_dirigido = {1: [2], \n",
    "                  2: [3], \n",
    "                  3: [2, 4, 5], \n",
    "                  4: [5], \n",
    "                  5: []\n",
    "                 }\n"
   ]
  },
  {
   "cell_type": "code",
   "execution_count": 33,
   "id": "3d24c7c4",
   "metadata": {},
   "outputs": [
    {
     "name": "stdout",
     "output_type": "stream",
     "text": [
      "Lista de vértices: [1, 2, 3, 4, 5]\n",
      "Vecinos del vértices 3 en el grafo no dirigido: [2, 4, 5]\n"
     ]
    }
   ],
   "source": [
    "# Los vértices:\n",
    "print(\"Lista de vértices:\", list(grafo_no_dirigido.keys()))\n",
    "\n",
    "# Vecinos de un vértice:\n",
    "print(\"Vecinos del vértices 3 en el grafo no dirigido:\", grafo_no_dirigido[3])"
   ]
  },
  {
   "cell_type": "markdown",
   "id": "06c3f271",
   "metadata": {},
   "source": [
    "### Matriz de adyacencia\n",
    "\n",
    "- Son matrices de dos dimensiones, de `NxN` (`N` siendo el número de vértices o nodos).\n",
    "- las filas representan los vértices de origen y las columnas los vértices de llegada.\n",
    "- Cada celda contiene un `1` o un `0`: si hay una arista que conecta al vértice de la fila con el vértice de de la columna, entonces contiene un `1`, en caso contrario, un `0`."
   ]
  },
  {
   "cell_type": "code",
   "execution_count": 34,
   "id": "84fc0689",
   "metadata": {},
   "outputs": [],
   "source": [
    "grafo_no_dirigido = [[0, 1, 0, 0, 0], \n",
    "                     [1, 0, 1, 0, 0],\n",
    "                     [0, 1, 0, 1, 1], \n",
    "                     [0, 0, 1, 0, 1], \n",
    "                     [0, 0, 1, 1, 0]\n",
    "                    ]\n",
    "\n",
    "grafo_dirigido    = [[0, 1, 0, 0, 0], \n",
    "                     [0, 0, 1, 0, 0], \n",
    "                     [0, 1, 0, 1, 1], \n",
    "                     [0, 0, 0, 0, 1], \n",
    "                     [0, 0, 0, 0, 0]\n",
    "                    ]"
   ]
  },
  {
   "cell_type": "code",
   "execution_count": 35,
   "id": "767bc65c",
   "metadata": {},
   "outputs": [
    {
     "name": "stdout",
     "output_type": "stream",
     "text": [
      "[0, 1, 0, 0, 0]\n",
      "[1, 0, 1, 0, 0]\n",
      "[0, 1, 0, 1, 1]\n",
      "[0, 0, 1, 0, 1]\n",
      "[0, 0, 1, 1, 0]\n"
     ]
    }
   ],
   "source": [
    "for fila in grafo_no_dirigido:\n",
    "    print(fila)"
   ]
  },
  {
   "cell_type": "markdown",
   "id": "413cd47e",
   "metadata": {},
   "source": [
    "**Desventajas** de usar matriz de adyacencia:\n",
    "\n",
    "- Notar que esta representación solo contiene información sobre las conexiones, se debe realizar de forma aparte la asociación entre los índices de esta matriz y los valores que tiene cada vértice.\n",
    "- En grafos grandes, la representación ocupa mucho espacio. Para representar un grafo de $N$ nodos, se necesitan almacenar $N\\times N$ valores. Más aún, si el grafo tiene pocas conexiones, la mayoría de las posiciones será $0$. La representación con lista de adyacencia es bastante más económica en espacio cuando no hay muchas aristas."
   ]
  },
  {
   "cell_type": "markdown",
   "id": "d970a1c5",
   "metadata": {},
   "source": [
    "## Operaciones en grafos"
   ]
  },
  {
   "cell_type": "markdown",
   "id": "762e506a",
   "metadata": {},
   "source": [
    "Definimos la clase Grafo, representado como listas de adyacencia, sobre la cual realizaremos nuestras operaciones."
   ]
  },
  {
   "cell_type": "code",
   "execution_count": 38,
   "id": "51c8fb93",
   "metadata": {},
   "outputs": [],
   "source": [
    "class Grafo:\n",
    "\n",
    "    # Permitimos que el grafo se construya a partir de una lista de adyacencia existente,\n",
    "    # o bien que parte con una lista de adyacencia vacío (un diccionario vacío)\n",
    "    def __init__(self, lista_adyacencia=None):\n",
    "        self.lista_adyacencia = lista_adyacencia or dict()"
   ]
  },
  {
   "cell_type": "markdown",
   "id": "2b7e65ba",
   "metadata": {},
   "source": [
    "La clase tendrá distintos métodos que le permitirán realizar las distintas operaciones. "
   ]
  },
  {
   "cell_type": "code",
   "execution_count": 39,
   "id": "b5401f55",
   "metadata": {},
   "outputs": [],
   "source": [
    "    # Encontrar si 'x' e 'y' están conectados se puede lograr buscando 'y' en la lista de adyacencia de 'x',\n",
    "    def adyacentes(self, x, y):\n",
    "        return y in self.lista_adyacencia[x]"
   ]
  },
  {
   "cell_type": "code",
   "execution_count": 40,
   "id": "6a98e5a6",
   "metadata": {},
   "outputs": [],
   "source": [
    "    # Para encontrar la lista de vecinos de un nodo 'x', simplemente accedemos a su lista de adyacencia\n",
    "    def vecinos(self, x):\n",
    "        return self.lista_adyacencia[x]"
   ]
  },
  {
   "cell_type": "code",
   "execution_count": 41,
   "id": "aa598933",
   "metadata": {},
   "outputs": [],
   "source": [
    "    # Para agregar un vértice 'x' al grafo, agregamos una llave más al diccionario\n",
    "    # que mantiene la listas de adyacencia.\n",
    "    # Como la lista de adyacencia de 'x' está inicialmente vacía, la inicializamos con un conjunto vacío\n",
    "    # También podía haber sido una lista vacía\n",
    "    def agregar_vertice(self, x):\n",
    "        self.lista_adyacencia[x] = set()"
   ]
  },
  {
   "cell_type": "code",
   "execution_count": 42,
   "id": "adfe6743",
   "metadata": {},
   "outputs": [],
   "source": [
    "\n",
    "    # Eliminar un vertice requiere un poco más de trabajo porque también hay que eliminar su conexiones\n",
    "    # (aristas) con el resto del grafo.\n",
    "    # El método 'pop(x,V)' de un diccionario elimina la entrada que tiene llave 'x'.\n",
    "    # Si la llave 'x' no existe en el diccionario, retorna el valor por defecto 'V'\n",
    "    # Luego de eliminar la entrada con llave 'x', se debe recorrer el grafo y eliminar todos las entradas\n",
    "    # que se refieran a 'x'\n",
    "    def remover_vertice(self, x):\n",
    "        self.lista_adyacencia.pop(x, None)\n",
    "        for k, v in self.lista_adyacencia.items():\n",
    "            if x in v:\n",
    "                v.remove(x)"
   ]
  },
  {
   "cell_type": "code",
   "execution_count": 43,
   "id": "f7def2d3",
   "metadata": {},
   "outputs": [],
   "source": [
    "    # Para agregar una arista entre 'x' e 'y', debemos ir a la lista de adyacencia de 'x'\n",
    "    # y agregar 'y' al conjunto\n",
    "    def agregar_arista(self, x, y):\n",
    "        if x in self.lista_adyacencia:\n",
    "            self.lista_adyacencia[x].add(y)"
   ]
  },
  {
   "cell_type": "code",
   "execution_count": 45,
   "id": "1f11c69b",
   "metadata": {},
   "outputs": [],
   "source": [
    "    # Eliminar unar arista entre 'x' e 'y' requiere buscar la entrada de 'y' en a lista de adyacencia de 'x'\n",
    "    def remover_arista(self, x, y):\n",
    "        vecinos_x = self.lista_adyacencia.get(x, set())\n",
    "        if y in vecinos_x:\n",
    "            vecinos_x.remove(y)"
   ]
  },
  {
   "cell_type": "code",
   "execution_count": null,
   "id": "6192a549",
   "metadata": {},
   "outputs": [],
   "source": []
  },
  {
   "cell_type": "markdown",
   "id": "7765202f",
   "metadata": {},
   "source": [
    "## Recorrido de grafos"
   ]
  },
  {
   "cell_type": "markdown",
   "id": "f9a0be06",
   "metadata": {},
   "source": [
    "### BFS (Breadth-first search)\n",
    "El algoritmo BFS recorre exhaustivamente el grafo dado un nodo de partida.Si un nodo no fue visitado significa que **no es alcanzable** desde el punto de partida elegido. \n",
    "\n",
    "Se utiliza una **cola** para guardar los nodos a visitar.\n",
    "\n",
    "BFS recorre el arbol por niveles, primero iremos a los nodos que estan a distancia 1 del punto de partida, luego recorreremos los que están a distancia 2 y asi sucesívamente hasta que hayamos pasado por todos.\n",
    "\n",
    "Es útil cuando se quiere encontrar **la mínima cantidad de aristas a recorrer** o el **camino más corto**"
   ]
  },
  {
   "cell_type": "code",
   "execution_count": null,
   "id": "7b8db921",
   "metadata": {},
   "outputs": [],
   "source": [
    "from collections import deque\n",
    "\n",
    "\n",
    "def bfs(grafo, inicio):\n",
    "    # Vamos a mantener una lista con los nodos visitados.\n",
    "    visitados = []\n",
    "    # La cola de siempre, comienza desde el nodo inicio.\n",
    "    queue = deque([inicio])\n",
    "\n",
    "    while len(queue) > 0:\n",
    "        # Elegimos el siguiente nodo a visitar de la cola\n",
    "        vertice = queue.popleft()\n",
    "        # Detalle clave: si ya visitamos el nodo, no hacemos nada!\n",
    "        if vertice in visitados:\n",
    "            continue\n",
    "\n",
    "        # Lo visitamos\n",
    "        print(vertice)\n",
    "        visitados.append(vertice)\n",
    "        # Agregamos los vecinos a la cola si es que no han sido visitados.\n",
    "        for vecino in grafo[vertice]:\n",
    "            if vecino not in visitados:\n",
    "                queue.append(vecino)\n",
    "    return visitados"
   ]
  },
  {
   "cell_type": "markdown",
   "id": "c2231d59",
   "metadata": {},
   "source": [
    "### DFS (Depth-first search)\n",
    "\n",
    "El algoritmo BFS recorre exhaustivamente el grafo dado un nodo de partida.Si un nodo no fue visitado significa que **no es alcanzable** desde el punto de partida elegido. \n",
    "\n",
    "Se utiliza un **stack** para guardar los nodos a visitar.\n",
    "\n",
    "Trata de llegar lo más lejos posible a partir de nodo inicial."
   ]
  },
  {
   "cell_type": "markdown",
   "id": "16d63d33",
   "metadata": {},
   "source": [
    "**Version íterativa**"
   ]
  },
  {
   "cell_type": "code",
   "execution_count": null,
   "id": "b65dea74",
   "metadata": {},
   "outputs": [],
   "source": [
    "def dfs(grafo, inicio):\n",
    "    # Vamos a mantener un set con los nodos visitados.\n",
    "    visitados = set()\n",
    "    # El stack de siempre, comienza desde el nodo inicio.\n",
    "    stack = [inicio]\n",
    "\n",
    "    while len(stack) > 0:\n",
    "        vertice = stack.pop()\n",
    "        # Detalle clave: si ya visitamos el nodo, ¡no hacemos nada!\n",
    "        if vertice in visitados:\n",
    "            continue\n",
    "        # Lo visitamos\n",
    "        print(vertice)\n",
    "        visitados.add(vertice)\n",
    "\n",
    "        # Agregamos los vecinos al stack si es que no han sido visitados.\n",
    "        for vecino in grafo[vertice]:\n",
    "            if vecino not in visitados:\n",
    "                stack.append(vecino)\n",
    "\n",
    "    return list(visitados)"
   ]
  },
  {
   "cell_type": "markdown",
   "id": "5dc1bda4",
   "metadata": {},
   "source": [
    "**Versión recursiva**"
   ]
  },
  {
   "cell_type": "code",
   "execution_count": null,
   "id": "4df95948",
   "metadata": {},
   "outputs": [],
   "source": [
    "# Vamos a mantener como parámetro un set con los nodos visitados.\n",
    "def dfs_recursivo(grafo, vertice, visitados=None):\n",
    "    visitados = visitados or set()\n",
    "\n",
    "    # Lo visitamos\n",
    "    print(vertice)\n",
    "    visitados.add(vertice)\n",
    "\n",
    "    for vecino in grafo[vertice]:\n",
    "        # Detalle clave: si ya visitamos el nodo, ¡no hacemos nada!\n",
    "        if vecino not in visitados:\n",
    "            dfs_recursivo(grafo, vecino, visitados)\n",
    "\n",
    "    return list(visitados)"
   ]
  },
  {
   "cell_type": "markdown",
   "id": "faaedc37",
   "metadata": {},
   "source": [
    "![ejemplo](img/bfs-dfs_final.png)"
   ]
  },
  {
   "cell_type": "markdown",
   "id": "6f5ca762",
   "metadata": {},
   "source": [
    "![ejemplo](img/bfs-dfs_gif.gif)"
   ]
  },
  {
   "cell_type": "markdown",
   "id": "fd032f71",
   "metadata": {},
   "source": [
    "# Actividad Ayudantía Nodales II"
   ]
  },
  {
   "cell_type": "markdown",
   "id": "d309f5de",
   "metadata": {},
   "source": [
    "Nos basaremos en la AS4 del 2021-2"
   ]
  },
  {
   "cell_type": "markdown",
   "id": "5657e4c0",
   "metadata": {},
   "source": [
    "Se tiene un grafo no dirigido construido en base a nodos grafo, los cuales almacenan un nombre y se\n",
    "conectan mediante amistades que tienen entre ellos. En este grafo se espera poder modificar las\n",
    "amistades (agregar y eliminar), pero también realizar una búsqueda de recomendaciones de posibles\n",
    "amistades a formar. Los nodos de este grafo se representan con la clase NodoGrafo."
   ]
  },
  {
   "cell_type": "markdown",
   "id": "cc2a7cb9",
   "metadata": {},
   "source": [
    "![ejemplo](img/grafo_2.png)"
   ]
  },
  {
   "cell_type": "markdown",
   "id": "30c70acc",
   "metadata": {},
   "source": [
    "El grafo de amistades representa las amistades entre usuarios. De este diagrama, uno\n",
    "puede concluir que R y J se tienen agregados como amigos, pero que R y S, no están guardados como\n",
    "amigos.\n"
   ]
  },
  {
   "cell_type": "markdown",
   "id": "90a10a8b",
   "metadata": {},
   "source": [
    "La clase DCCompañeros, instancia todas las estructuras con el\n",
    "método crear_red. Pero, primero se necesita a NodoGrafo.\n"
   ]
  },
  {
   "cell_type": "code",
   "execution_count": 139,
   "id": "e53e8668",
   "metadata": {},
   "outputs": [],
   "source": [
    "class NodoGrafo:\n",
    "    def __init__(self, nombre):\n",
    "        # No modificar\n",
    "        self.nombre = nombre\n",
    "        self.amistades = []\n",
    "\n",
    "    def formar_amistad(self, nueva_amistad):\n",
    "        pass\n",
    "\n",
    "    def eliminar_amistad(self, ex_amistad):\n",
    "        pass\n"
   ]
  },
  {
   "cell_type": "markdown",
   "id": "964be5fb",
   "metadata": {},
   "source": [
    "El atributo self.nodos_grafo de DCCompaneros es un diccionario con llave el nombre del nodo y value su instancia de NodoGrafo."
   ]
  },
  {
   "cell_type": "code",
   "execution_count": 140,
   "id": "9b2cd94c",
   "metadata": {},
   "outputs": [],
   "source": [
    "from collections import deque\n",
    "\n",
    "class DCCompaneros:\n",
    "    def __init__(self):\n",
    "        self.nodos_grafo = {}\n",
    "\n",
    "    def crear_red(self, info_usuarios): \n",
    "        # Crear Nodos grafos \n",
    "        # info usuario dict de key nombre y \n",
    "        # value dict de atributos (nombre y lista de amistades)\n",
    "        # self.nodos_grafos[nombre] = instancia NodoGrafo\n",
    "\n",
    "\n",
    "        # Crear amistades\n",
    "        pass"
   ]
  },
  {
   "cell_type": "markdown",
   "id": "e5bbbfc6",
   "metadata": {},
   "source": [
    "Deberas completar los siguientes métodos de NodoGrafo:\n",
    "- **formar_amistad**(self, nueva_amistad: NodoGrafo):\n",
    "\n",
    "Recibe una instancia de NodoGrafo, con la cual debes agregar mutuamente los nodos a la lista de\n",
    "amistades de quienes estén formando esta amistad, solamente si esta no existe previamente. Puedes\n",
    "agregar los print necesarios para cada caso.\n",
    "\n",
    "- **eliminar_amistad**(self, ex_amistad: NodoGrafo):\n",
    "\n",
    "Recibe una instancia de NodoGrafo y debes eliminarla mutuamente de las listas de amistades del\n",
    "nodo original y del nodo a eliminar, solamente si la amistad ya existe. P"
   ]
  },
  {
   "cell_type": "code",
   "execution_count": 141,
   "id": "dc63b73b",
   "metadata": {},
   "outputs": [],
   "source": [
    "class NodoGrafo:\n",
    "    def __init__(self, nombre):\n",
    "        # No modificar\n",
    "        self.nombre = nombre\n",
    "        self.amistades = []\n",
    "\n",
    "    def formar_amistad(self, nueva_amistad):\n",
    "        pass\n",
    "\n",
    "    def eliminar_amistad(self, ex_amistad):\n",
    "        pass\n"
   ]
  },
  {
   "cell_type": "code",
   "execution_count": 142,
   "id": "b3c634d3",
   "metadata": {},
   "outputs": [],
   "source": [
    "from collections import deque\n",
    "\n",
    "class DCCompaneros:\n",
    "    def __init__(self):\n",
    "        self.nodos_grafo = {}\n",
    "\n",
    "    def crear_red(self, info_usuarios): #info usuario dict con nombre y dict de atributos\n",
    "\n",
    "        # Crear nodos grafo, dict con nombre:instancia usuario\n",
    "        self.nodos_grafo = {\n",
    "            nombre: NodoGrafo(nombre)\n",
    "            for nombre in info_usuarios.keys()\n",
    "        }\n",
    "\n",
    "        # Crear amistades\n",
    "        for nombre, atributos in info_usuarios.items():\n",
    "            amistades = [\n",
    "                self.nodos_grafo[nombre_amistad]\n",
    "                for nombre_amistad in atributos[\"amistades\"]\n",
    "            ]\n",
    "            self.nodos_grafo[nombre].amistades = amistades\n",
    "\n",
    "\n"
   ]
  },
  {
   "cell_type": "code",
   "execution_count": 144,
   "id": "9eafe718",
   "metadata": {},
   "outputs": [],
   "source": [
    "dict_info = dict()\n",
    "amigo_1 = dict_info[\"Levy\"] = {\"nombre\": \"Levy Hackerman\",\"amistades\": [\"Christian\"]}\n",
    "amigo_2 = dict_info[\"Christian\"] = {\"nombre\": \"Christian Klempau\",\"amistades\": [\"Levy\", \"Pepe\"]}\n",
    "amigo_3 = dict_info[\"Pepe\"] = {\"nombre\": \"Pepe\",\"amistades\": [\"Christian\", \"Juan\"]}\n",
    "amigo_4 = dict_info[\"Juan\"] = {\"nombre\": \"Juan\",\"amistades\": [\"Pepe\"]}\n",
    "\n",
    "dccompaneros = DCCompaneros()\n",
    "dccompaneros.crear_red(dict_info)"
   ]
  },
  {
   "cell_type": "code",
   "execution_count": 145,
   "id": "d1e7b102",
   "metadata": {},
   "outputs": [
    {
     "name": "stdout",
     "output_type": "stream",
     "text": [
      "Levy es amigo de: Christian\n",
      "Christian es amigo de: Levy\n",
      "Christian es amigo de: Pepe\n",
      "Pepe es amigo de: Christian\n",
      "Pepe es amigo de: Juan\n",
      "Juan es amigo de: Pepe\n"
     ]
    }
   ],
   "source": [
    "for x, y in dccompaneros.nodos_grafo.items():\n",
    "    for amigo in y.amistades:\n",
    "        print(f\"{x} es amigo de: {amigo.nombre}\")"
   ]
  },
  {
   "cell_type": "markdown",
   "id": "816cfd9d",
   "metadata": {},
   "source": [
    "Probamos los métodos creados:"
   ]
  },
  {
   "cell_type": "code",
   "execution_count": 132,
   "id": "a5f28a46",
   "metadata": {},
   "outputs": [
    {
     "name": "stdout",
     "output_type": "stream",
     "text": [
      "Se ha eliminado la amistad entre entre Pepe y Juan\n"
     ]
    }
   ],
   "source": [
    "dccompaneros.nodos_grafo[\"Pepe\"].eliminar_amistad(dccompaneros.nodos_grafo[\"Juan\"])"
   ]
  },
  {
   "cell_type": "code",
   "execution_count": 133,
   "id": "c6e2f8c0",
   "metadata": {},
   "outputs": [
    {
     "name": "stdout",
     "output_type": "stream",
     "text": [
      "Levy es amigo de: Christian\n",
      "Christian es amigo de: Levy\n",
      "Christian es amigo de: Pepe\n",
      "Pepe es amigo de: Christian\n"
     ]
    }
   ],
   "source": [
    "for x, y in dccompaneros.nodos_grafo.items():\n",
    "    for amigo in y.amistades:\n",
    "        print(f\"{x} es amigo de: {amigo.nombre}\")"
   ]
  },
  {
   "cell_type": "markdown",
   "id": "fc473ba6",
   "metadata": {},
   "source": [
    "Agregamos dos nuevas personas:\n",
    "- Lila, quien se hará amiga de Juan y Levy.\n",
    "- Tamara, quien se hará amiga de Pepe."
   ]
  },
  {
   "cell_type": "code",
   "execution_count": 146,
   "id": "6dfc1cb8",
   "metadata": {},
   "outputs": [],
   "source": [
    "amigo_5_nodo = NodoGrafo(\"Lila\")\n",
    "amigo_6_nodo = NodoGrafo(\"Tamara\")\n",
    "\n",
    "dccompaneros.nodos_grafo[\"Lila\"] = amigo_5_nodo\n",
    "dccompaneros.nodos_grafo[\"Tamara\"] = amigo_6_nodo"
   ]
  },
  {
   "cell_type": "markdown",
   "id": "d6f9a589",
   "metadata": {},
   "source": [
    "Y hacemos que formen amistades:"
   ]
  },
  {
   "cell_type": "code",
   "execution_count": 147,
   "id": "497fab4c",
   "metadata": {},
   "outputs": [
    {
     "name": "stdout",
     "output_type": "stream",
     "text": [
      "Se ha agregado la amistad entre Lila y Juan\n",
      "Se ha agregado la amistad entre Lila y Levy\n",
      "Se ha agregado la amistad entre Tamara y Pepe\n"
     ]
    }
   ],
   "source": [
    "amigo_5_nodo.formar_amistad(dccompaneros.nodos_grafo[\"Juan\"])\n",
    "amigo_5_nodo.formar_amistad(dccompaneros.nodos_grafo[\"Levy\"])\n",
    "amigo_6_nodo.formar_amistad(dccompaneros.nodos_grafo[\"Pepe\"])"
   ]
  },
  {
   "cell_type": "code",
   "execution_count": 148,
   "id": "e57af017",
   "metadata": {},
   "outputs": [
    {
     "name": "stdout",
     "output_type": "stream",
     "text": [
      "Levy es amigo de: Christian\n",
      "Levy es amigo de: Lila\n",
      "Christian es amigo de: Levy\n",
      "Christian es amigo de: Pepe\n",
      "Pepe es amigo de: Christian\n",
      "Pepe es amigo de: Juan\n",
      "Pepe es amigo de: Tamara\n",
      "Juan es amigo de: Pepe\n",
      "Juan es amigo de: Lila\n",
      "Lila es amigo de: Juan\n",
      "Lila es amigo de: Levy\n",
      "Tamara es amigo de: Pepe\n"
     ]
    }
   ],
   "source": [
    "for x, y in dccompaneros.nodos_grafo.items():\n",
    "    for amigo in y.amistades:\n",
    "        print(f\"{x} es amigo de: {amigo.nombre}\")"
   ]
  },
  {
   "cell_type": "markdown",
   "id": "bfcde3b3",
   "metadata": {},
   "source": [
    "Luego, se debe crear la siguiente funcion:"
   ]
  },
  {
   "cell_type": "markdown",
   "id": "73d43aa1",
   "metadata": {},
   "source": [
    "- **recomendar_amistades**(self, nodo_inicial: NodoGrafo, profundidad:int):\n",
    "Recibe un nodo de inicio nodo_inicial y una profundidad máxima profundidad; retorna una lista\n",
    "con todos los NodoGrafo que se encuentren a una profundidad igual o menor a la máxima. Es\n",
    "importante que solo se recomienden NodoGrafo que no sean parte de las amistades ya existentes.\n",
    "En la imagen presentada al comienzo tenemos lo siguiente, al empezar en R:\n",
    "![ejemplo](img/grafo.png)\n",
    "- Si la profundidad es 1 debemos buscar en las amistades de mis amistades, en este caso serían\n",
    "únicamente F y E.\n",
    "- Si es profundidad es 2 avanzamos un nivel más, es decir, serían F, E y T.\n",
    "- Si es profundidad es 3 serían F, E, T y S.\n"
   ]
  },
  {
   "cell_type": "code",
   "execution_count": 149,
   "id": "f87b3348",
   "metadata": {},
   "outputs": [],
   "source": [
    "def recomendar_amistades(nodo_inicial, profundidad):\n",
    "\n",
    "    pass"
   ]
  },
  {
   "cell_type": "code",
   "execution_count": 150,
   "id": "3d865864",
   "metadata": {},
   "outputs": [
    {
     "name": "stdout",
     "output_type": "stream",
     "text": [
      "['Pepe', 'Juan', 'Tamara']\n"
     ]
    }
   ],
   "source": [
    "recomendaciones = recomendar_amistades(dccompaneros.nodos_grafo[\"Levy\"], 2)\n",
    "lista = []\n",
    "for x in recomendaciones:\n",
    "    lista.append(x.nombre)\n",
    "print(lista)"
   ]
  }
 ],
 "metadata": {
  "kernelspec": {
   "display_name": "Python 3 (ipykernel)",
   "language": "python",
   "name": "python3"
  },
  "language_info": {
   "codemirror_mode": {
    "name": "ipython",
    "version": 3
   },
   "file_extension": ".py",
   "mimetype": "text/x-python",
   "name": "python",
   "nbconvert_exporter": "python",
   "pygments_lexer": "ipython3",
   "version": "3.8.10"
  },
  "vscode": {
   "interpreter": {
    "hash": "a9cff5a362bc38ef45d817ae74b1af54d6a076e3d773891282bce078b815ba34"
   }
  }
 },
 "nbformat": 4,
 "nbformat_minor": 5
}
