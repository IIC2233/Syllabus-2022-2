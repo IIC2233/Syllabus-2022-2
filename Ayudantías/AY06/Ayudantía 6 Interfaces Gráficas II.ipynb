{
 "cells": [
  {
   "cell_type": "markdown",
   "id": "4640ec2d",
   "metadata": {
    "slideshow": {
     "slide_type": "slide"
    }
   },
   "source": [
    "# Ayudantía 06: Interfaces Gráficas II\n",
    "\n",
    "### **Autores:** \n",
    "- Juan Fernández  ([@juanfdezg](https://github.com/juanfdezg)) \n",
    "- Consuelo Inostroza ([@cattpuccino](https://github.com/cattpuccino))"
   ]
  },
  {
   "cell_type": "markdown",
   "id": "b51e4f1c",
   "metadata": {
    "slideshow": {
     "slide_type": "slide"
    }
   },
   "source": [
    "## Threading y PyQt 😱"
   ]
  },
  {
   "cell_type": "markdown",
   "id": "272fd17a",
   "metadata": {
    "slideshow": {
     "slide_type": "slide"
    }
   },
   "source": [
    "### Espera... **¿Otra vez threading?** Esto tiene que ser una broma.\n",
    "El uso de *threading* al programar interfaces gráficas es muy importante. Solo imagina un mundo donde tu navegador de internet pudiera solo manejar\n",
    "una ventana o proceso a la vez: abres una ventana nueva y las otras se congelan. ¿A nadie le gustaría eso, o sí?"
   ]
  },
  {
   "cell_type": "markdown",
   "id": "cea29b92",
   "metadata": {
    "slideshow": {
     "slide_type": "slide"
    }
   },
   "source": [
    "### **QThread** y **QTimer** al rescate\n",
    " - PyQt trae su propia implementación de *threads*, por medio de la clase llamada ``QThread``.\n",
    "Se usan de manera muy parecida a los *threads* que ya conoces y **amas**, además de tener nuevas funcionalidades :D"
   ]
  },
  {
   "cell_type": "markdown",
   "id": "f5bd33a6",
   "metadata": {
    "slideshow": {
     "slide_type": "fragment"
    }
   },
   "source": [
    " - Por otro lado, una herramienta **muy útil** de PyQt para simular concurrencia son los ``QTimer``.\n",
    " - Un ``Qtimer`` se ejecuta periódicamente, esperando un intervalo de tiempo definido entre ciclos. La forma en que se comportan los ``QTimer`` es ideal para cualquier funcionalidad que quieras que ocurra cada cierto tiempo, como veremos en el ejemplo de esta sección."
   ]
  },
  {
   "cell_type": "markdown",
   "id": "9696779d",
   "metadata": {
    "slideshow": {
     "slide_type": "slide"
    }
   },
   "source": [
    "#### Métodos notables de QThread\n",
    " - ``isRunning``: reemplaza el método ``is_alive`` de los *threads* de Python. Permite saber si un ``QThread`` está actualmente corriendo o no."
   ]
  },
  {
   "cell_type": "markdown",
   "id": "a664ff49",
   "metadata": {
    "slideshow": {
     "slide_type": "slide"
    }
   },
   "source": [
    "#### Métodos notables de QTimer\n",
    " - ``start`` y ``stop``: permite iniciar y parar el *timer*, respectivamente."
   ]
  },
  {
   "cell_type": "markdown",
   "id": "f1c2c5bc",
   "metadata": {
    "slideshow": {
     "slide_type": "slide"
    }
   },
   "source": [
    " - ``setInterval(ms: int)``: define que el *timer* debe emitir la señal *timeout* cada ``ms`` milisegundos.\n",
    " - ``timeout``: es la señal que llama el *timer* cuando termina el intervalo de tiempo. Puedes utilizar el método ``connect`` para conectarlo a alguna función."
   ]
  },
  {
   "cell_type": "markdown",
   "id": "948c4baf",
   "metadata": {
    "slideshow": {
     "slide_type": "fragment"
    }
   },
   "source": [
    " - ``isActive``: permite saber si el *timer* está actualmente corriendo (análogo a ``isRunning`` e ``is_alive``).\n",
    " - ``setSingleShot(singleShot: bool)``: permite definir si el *timer* es de tipo ``singleShot`` (entregando como parámetro ``True``). Que un *timer* sea ``singleShot`` significa que, al pasar el intervalo de tiempo,\n",
    " el timer se detendrá (es decir, no cicla indefinidamente)."
   ]
  },
  {
   "cell_type": "markdown",
   "id": "ce0b7433",
   "metadata": {
    "slideshow": {
     "slide_type": "slide"
    }
   },
   "source": [
    "### La clave del éxito: ¡Señales!\n",
    "Hasta ahora, los ``QThreads`` (o *threads* en general) parecen algo que solo utilizarías si te lo piden explícitamente en la tarea... pero, en la práctica, es casi imposible implementar interfaces gráficas sin *threading*.\n",
    "\n",
    "Una de las cosas más útiles que podemos hacer con ``QThreads`` es enviar señales entre ventanas u objetos, sin que se congelen o dejen de hacer sus respectivas funcionalidaes. ¡Veamos un ejemplo!"
   ]
  },
  {
   "cell_type": "markdown",
   "id": "a1824318",
   "metadata": {
    "slideshow": {
     "slide_type": "slide"
    }
   },
   "source": [
    "#### Primero, intentemos hacer un *loop* dentro de una ventana"
   ]
  },
  {
   "cell_type": "code",
   "execution_count": 2,
   "id": "3772df54",
   "metadata": {
    "slideshow": {
     "slide_type": "slide"
    }
   },
   "outputs": [],
   "source": [
    "# Importacion de librerias para todas las celdas del ejemplo\n",
    "import sys\n",
    "from time import sleep\n",
    "from PyQt5.QtCore import pyqtSignal, QThread, QTimer\n",
    "from PyQt5.QtWidgets import QApplication, QWidget, QLabel, QVBoxLayout, QPushButton"
   ]
  },
  {
   "cell_type": "code",
   "execution_count": 2,
   "id": "5b37e433",
   "metadata": {
    "slideshow": {
     "slide_type": "subslide"
    }
   },
   "outputs": [],
   "source": [
    "class VentanaSinThread(QWidget):\n",
    "    actualizar_label_signal = pyqtSignal()\n",
    "\n",
    "    def __init__(self):\n",
    "        super().__init__()\n",
    "        # Creamos los botones y labels necesarios para el ejemplo.\n",
    "        self.label_numero = QLabel(\"0\", self)  # Muestra el numero que ira en aumento\n",
    "        self.boton_numero = QPushButton(\"0\", self)  # Muestra el numero que sube si lo apretamos\n",
    "        self.boton_loop = QPushButton(\"Iniciar Loop\", self)  # Inicia el loop\n",
    "        self.layout_principal = QVBoxLayout(self)  # Layout de la ventana principal\n",
    "\n",
    "        self.init_gui()"
   ]
  },
  {
   "cell_type": "code",
   "execution_count": 3,
   "id": "c9850e05",
   "metadata": {
    "slideshow": {
     "slide_type": "subslide"
    }
   },
   "outputs": [],
   "source": [
    "    def init_gui(self):\n",
    "        # Ordenamos las Widgets\n",
    "        self.layout_principal.addWidget(self.label_numero)\n",
    "        self.layout_principal.addStretch()\n",
    "        self.layout_principal.addWidget(self.boton_numero)\n",
    "        self.layout_principal.addWidget(self.boton_loop)\n",
    "        # Conectamos las senales\n",
    "        self.boton_numero.clicked.connect(self.actualizar_boton)\n",
    "        self.boton_loop.clicked.connect(self.iniciar_loop)\n",
    "        self.actualizar_label_signal.connect(self.actualizar_label)\n",
    "\n",
    "        self.show()"
   ]
  },
  {
   "cell_type": "code",
   "execution_count": 4,
   "id": "d31f4007",
   "metadata": {
    "slideshow": {
     "slide_type": "subslide"
    }
   },
   "outputs": [],
   "source": [
    "    def actualizar_label(self):\n",
    "        # Obtenemos el numero actual del label y lo aumentamos en 1\n",
    "        numero_actual = int(self.label_numero.text())\n",
    "        self.label_numero.setText(str(numero_actual + 1))\n",
    "\n",
    "    def actualizar_boton(self):\n",
    "        # Obtenemos el numero actual del boton y lo aumentamos en 1\n",
    "        numero_actual = int(self.boton_numero.text())\n",
    "        self.boton_numero.setText(str(numero_actual + 1))\n",
    "\n",
    "    def iniciar_loop(self):\n",
    "        # Emitimos la senal 10 veces, con 0.5 segundos de espera entre emisiones.\n",
    "        for _ in range(10):\n",
    "            self.actualizar_label_signal.emit()\n",
    "            sleep(0.5)"
   ]
  },
  {
   "cell_type": "code",
   "execution_count": 3,
   "id": "537ad2d9",
   "metadata": {
    "slideshow": {
     "slide_type": "skip"
    }
   },
   "outputs": [
    {
     "ename": "SystemExit",
     "evalue": "0",
     "output_type": "error",
     "traceback": [
      "An exception has occurred, use %tb to see the full traceback.\n",
      "\u001b[1;31mSystemExit\u001b[0m\u001b[1;31m:\u001b[0m 0\n"
     ]
    },
    {
     "name": "stderr",
     "output_type": "stream",
     "text": [
      "C:\\Users\\juanf\\AppData\\Local\\Programs\\Python\\Python310\\lib\\site-packages\\IPython\\core\\interactiveshell.py:3406: UserWarning: To exit: use 'exit', 'quit', or Ctrl-D.\n",
      "  warn(\"To exit: use 'exit', 'quit', or Ctrl-D.\", stacklevel=1)\n"
     ]
    }
   ],
   "source": [
    "if __name__ == '__main__':\n",
    "    app = QApplication([])\n",
    "    ventana = VentanaSinThread()\n",
    "    sys.exit(app.exec_())"
   ]
  },
  {
   "cell_type": "markdown",
   "id": "f4bbff29",
   "metadata": {
    "slideshow": {
     "slide_type": "slide"
    }
   },
   "source": [
    "#### ¿Qué pasó?\n",
    "La ventana, al intentar correr todo por medio del *thread* principal, no puede procesar eventos, como apretar un botón, mientras que está corriendo el *loop*.\n",
    "\n",
    "#### Veamos como solucionarlo utilizando QThread"
   ]
  },
  {
   "cell_type": "code",
   "execution_count": null,
   "id": "38b2b20e",
   "metadata": {
    "slideshow": {
     "slide_type": "slide"
    }
   },
   "outputs": [],
   "source": [
    "class ThreadBacan(QThread):\n",
    "    def __init__(self, actualizar_label_signal, *args, **kwargs):\n",
    "        # Entregar *args y **kwargs a la super clase es importante por si queremos dar algun parametro\n",
    "        # inicial de los que ya ofrece la clase QThread\n",
    "        super().__init__(*args, **kwargs)\n",
    "        # Le entregamos una senal que queremos que el Thread emita\n",
    "        self.actualizar_label_signal = actualizar_label_signal\n",
    "\n",
    "    def run(self):\n",
    "        for _ in range(10):\n",
    "            self.actualizar_label_signal.emit()\n",
    "            sleep(0.5)"
   ]
  },
  {
   "cell_type": "code",
   "execution_count": null,
   "id": "fe496e5d",
   "metadata": {
    "slideshow": {
     "slide_type": "subslide"
    }
   },
   "outputs": [],
   "source": [
    "class VentanaConThread(QWidget):\n",
    "    actualizar_label_signal = pyqtSignal()\n",
    "\n",
    "    def __init__(self):\n",
    "        super().__init__()\n",
    "        self.label_numero = QLabel(\"0\", self)\n",
    "        self.boton_numero = QPushButton(\"0\", self)\n",
    "        self.boton_loop = QPushButton(\"Iniciar Loop\", self)\n",
    "\n",
    "        self.layout_principal = QVBoxLayout(self)\n",
    "\n",
    "        # Creamos nuestro thread y le entregamos la senal para actualizar el label\n",
    "        self.thread_bacan = ThreadBacan(self.actualizar_label_signal)\n",
    "\n",
    "        self.init_gui()"
   ]
  },
  {
   "cell_type": "code",
   "execution_count": null,
   "id": "209f52ae",
   "metadata": {
    "slideshow": {
     "slide_type": "subslide"
    }
   },
   "outputs": [],
   "source": [
    "    def init_gui(self):\n",
    "        self.layout_principal.addWidget(self.label_numero)\n",
    "        self.layout_principal.addStretch()\n",
    "        self.layout_principal.addWidget(self.boton_numero)\n",
    "        self.layout_principal.addWidget(self.boton_loop)\n",
    "\n",
    "        self.boton_numero.clicked.connect(self.actualizar_boton)\n",
    "        self.boton_loop.clicked.connect(self.iniciar_loop)\n",
    "        self.actualizar_label_signal.connect(self.actualizar_label)\n",
    "\n",
    "        self.show()"
   ]
  },
  {
   "cell_type": "code",
   "execution_count": null,
   "id": "724ae0b0",
   "metadata": {
    "slideshow": {
     "slide_type": "subslide"
    }
   },
   "outputs": [],
   "source": [
    "    def actualizar_label(self):\n",
    "        numero_actual = int(self.label_numero.text())\n",
    "        self.label_numero.setText(str(numero_actual + 1))\n",
    "\n",
    "    def actualizar_boton(self):\n",
    "        numero_actual = int(self.boton_numero.text())\n",
    "        self.boton_numero.setText(str(numero_actual + 1))\n",
    "\n",
    "    def iniciar_loop(self):\n",
    "        self.thread_bacan.start()"
   ]
  },
  {
   "cell_type": "code",
   "execution_count": null,
   "id": "18e6c066",
   "metadata": {},
   "outputs": [],
   "source": [
    "if __name__ == '__main__':\n",
    "    app = QApplication([])\n",
    "    ventana = VentanaConThread()\n",
    "    sys.exit(app.exec_())"
   ]
  },
  {
   "cell_type": "markdown",
   "id": "44f60daf",
   "metadata": {
    "slideshow": {
     "slide_type": "slide"
    }
   },
   "source": [
    "¡Threading puede ser muy útil!\n",
    "\n",
    "Sin embargo, podría parecer tedioso tener que implementar un *thread* personalizado para todo lo que implique tiempo.\n",
    "Es por esto que los ``QTimer`` pueden ser una herramienta muy poderosa, pues permite fácilmente enviar señales cada cierto tiempo (y nos ahorramos un poquito de código).\n",
    "\n",
    "**Implementación con QTimer**"
   ]
  },
  {
   "cell_type": "code",
   "execution_count": null,
   "id": "64adb7c0",
   "metadata": {
    "slideshow": {
     "slide_type": "slide"
    }
   },
   "outputs": [],
   "source": [
    "class VentanaConTimer(QWidget):\n",
    "    def __init__(self):\n",
    "        super().__init__()\n",
    "        self.label_numero = QLabel(\"0\", self)\n",
    "        self.boton_numero = QPushButton(\"0\", self)\n",
    "        self.boton_loop = QPushButton(\"Iniciar Loop\", self)\n",
    "\n",
    "        self.layout_principal = QVBoxLayout(self)\n",
    "        self.timer_epico = QTimer(self)\n",
    "\n",
    "        self.init_gui()"
   ]
  },
  {
   "cell_type": "code",
   "execution_count": null,
   "id": "426d6c12",
   "metadata": {
    "slideshow": {
     "slide_type": "subslide"
    }
   },
   "outputs": [],
   "source": [
    "    def init_gui(self):\n",
    "        self.layout_principal.addWidget(self.label_numero)\n",
    "        self.layout_principal.addStretch()\n",
    "        self.layout_principal.addWidget(self.boton_numero)\n",
    "        self.layout_principal.addWidget(self.boton_loop)\n",
    "\n",
    "        self.boton_numero.clicked.connect(self.actualizar_boton)\n",
    "        self.boton_loop.clicked.connect(self.iniciar_loop)\n",
    "\n",
    "        self.show()"
   ]
  },
  {
   "cell_type": "code",
   "execution_count": null,
   "id": "02cb53fa",
   "metadata": {
    "slideshow": {
     "slide_type": "subslide"
    }
   },
   "outputs": [],
   "source": [
    "    def actualizar_label(self):\n",
    "        numero_actual = int(self.label_numero.text())\n",
    "        self.label_numero.setText(str(numero_actual + 1))\n",
    "\n",
    "        # Podemos dejar una prueba para ver si paramos el timer.\n",
    "        # Idealmente, deberias implementar un timer personalizado que se preocupe de esto\n",
    "        if numero_actual == 10:\n",
    "            self.timer_epico.stop()"
   ]
  },
  {
   "cell_type": "code",
   "execution_count": null,
   "id": "34e6aacf",
   "metadata": {
    "slideshow": {
     "slide_type": "subslide"
    }
   },
   "outputs": [],
   "source": [
    "    def actualizar_boton(self):\n",
    "        numero_actual = int(self.boton_numero.text())\n",
    "        self.boton_numero.setText(str(numero_actual + 1))"
   ]
  },
  {
   "cell_type": "code",
   "execution_count": null,
   "id": "dafa7e20",
   "metadata": {
    "slideshow": {
     "slide_type": "subslide"
    }
   },
   "outputs": [],
   "source": [
    "    def iniciar_loop(self):\n",
    "        # Los timers emiten una senal cada vez que pasa una cantidad de tiempo especificada\n",
    "        # la cual puedes acceder para conectarla utilizando el atributo timeout.\n",
    "        self.timer_epico.timeout.connect(self.actualizar_label)\n",
    "        # Ojo: el tiempo se especifica en milisegundos!\n",
    "        self.timer_epico.setInterval(1000)\n",
    "        self.timer_epico.start()"
   ]
  },
  {
   "cell_type": "code",
   "execution_count": null,
   "id": "5490f6a0",
   "metadata": {
    "slideshow": {
     "slide_type": "skip"
    }
   },
   "outputs": [],
   "source": [
    "if __name__ == '__main__':\n",
    "    app = QApplication([])\n",
    "    ventana = VentanaConTimer()\n",
    "    sys.exit(app.exec_())"
   ]
  },
  {
   "cell_type": "markdown",
   "id": "f8bcb838",
   "metadata": {
    "slideshow": {
     "slide_type": "slide"
    }
   },
   "source": [
    "## Main window 💻\n",
    "### Qué es una MainWindow, ¿se come?\n",
    "![macewindu](imagenes/mace_windu_star_wars.jpg)"
   ]
  },
  {
   "cell_type": "markdown",
   "id": "3980bf47",
   "metadata": {
    "slideshow": {
     "slide_type": "slide"
    }
   },
   "source": [
    "Cuando hablamos de una ``MainWindow``, piensa simplemente en una *widget* especial, la cual trae un orden pre-definido y funcionalidades especiales.\n",
    "Esta ventana existe principalmente para facilitar la construcción de aplicaciones con un orden \"estándar\". Básicamente, te permite construir rápidamente aplicaciones que ordenan sus ventanas como el *IDE* que utilizas para el ramo."
   ]
  },
  {
   "cell_type": "markdown",
   "id": "69c842b1",
   "metadata": {
    "slideshow": {
     "slide_type": "subslide"
    }
   },
   "source": [
    "Una MainWindow se ordena de la siguiente manera:\n",
    "![mainwindow](imagenes/mainwindowlayout.png)"
   ]
  },
  {
   "cell_type": "markdown",
   "id": "ef1918f4",
   "metadata": {
    "slideshow": {
     "slide_type": "slide"
    }
   },
   "source": [
    "## La salvación de muchos: Qt Designer 🎨🙌\n",
    "Qt Designer es una herramienta de diseño que permite crear Widgets visualmente 😎"
   ]
  },
  {
   "cell_type": "markdown",
   "id": "2719e24f",
   "metadata": {
    "slideshow": {
     "slide_type": "slide"
    }
   },
   "source": [
    "### ¿Cómo lo encuentro? ¿Cómo lo uso en mi programa? ¡Ayuda!\n",
    "Instalando designer:\n",
    "\n",
    "``pip install PyQt5-tools``\n",
    "\n",
    "``pip3 install PyQt5-tools``"
   ]
  },
  {
   "cell_type": "markdown",
   "id": "ef81ffd8",
   "metadata": {
    "slideshow": {
     "slide_type": "subslide"
    }
   },
   "source": [
    "Encontrando designer:\n",
    "\n",
    "``C:\\Users\\[Tu usuario]\\AppData\\Local\\Programs\\Python\\Python[version]\\Lib\\site-packages\\pyqt5-tools\\designer``"
   ]
  },
  {
   "cell_type": "markdown",
   "id": "87a98580",
   "metadata": {
    "slideshow": {
     "slide_type": "subslide"
    }
   },
   "source": [
    "También puedes utilizar en consola el comando:\n",
    "\n",
    "``pyqt5-tools designer``"
   ]
  },
  {
   "cell_type": "markdown",
   "id": "9f3b0bc7",
   "metadata": {
    "slideshow": {
     "slide_type": "subslide"
    }
   },
   "source": [
    "![qtdesigner](imagenes/qtdesigner-anotado.png)"
   ]
  },
  {
   "cell_type": "markdown",
   "id": "5f4c086b",
   "metadata": {
    "slideshow": {
     "slide_type": "slide"
    }
   },
   "source": [
    "## Ejercicio propuesto 🎶\n",
    "El ejercicio consta utilizar tanto QtDesigner como Python para implementar una ventana. El proceso\n",
    "que vamos a seguir es el siguiente:\n",
    "\n",
    " - Crearemos las ventanas utilizando Designer.\n",
    " - Conectaremos la señal de un botón utilizando Designer.\n",
    " - Importaremos el trabajo hasta este punto a Python.\n",
    " - Utilizaremos python para crear funcionalidades más complejas."
   ]
  }
 ],
 "metadata": {
  "celltoolbar": "Slideshow",
  "kernelspec": {
   "display_name": "Python 3 (ipykernel)",
   "language": "python",
   "name": "python3"
  },
  "language_info": {
   "codemirror_mode": {
    "name": "ipython",
    "version": 3
   },
   "file_extension": ".py",
   "mimetype": "text/x-python",
   "name": "python",
   "nbconvert_exporter": "python",
   "pygments_lexer": "ipython3",
   "version": "3.10.6"
  }
 },
 "nbformat": 4,
 "nbformat_minor": 5
}
